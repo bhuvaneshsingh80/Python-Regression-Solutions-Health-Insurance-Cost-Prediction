{
 "cells": [
  {
   "cell_type": "code",
   "execution_count": 1,
   "id": "b455d558",
   "metadata": {},
   "outputs": [],
   "source": [
    "import pandas as pd\n",
    "import numpy as np\n",
    "from sklearn.linear_model import LinearRegression\n",
    "from sklearn.metrics import mean_squared_error\n",
    "from sklearn.metrics import mean_absolute_percentage_error\n",
    "from sklearn.metrics import r2_score\n",
    "from sklearn.preprocessing import scale\n",
    "from sklearn.linear_model import Lasso\n",
    "from sklearn.linear_model import ElasticNet\n",
    "from sklearn.tree import DecisionTreeRegressor\n",
    "from sklearn.neighbors import KNeighborsRegressor\n",
    "from sklearn.neural_network import MLPRegressor\n",
    "from sklearn.ensemble import RandomForestRegressor\n",
    "from sklearn.ensemble import GradientBoostingRegressor\n",
    "from sklearn.model_selection import GridSearchCV\n",
    "import xgboost as xgb\n",
    "import matplotlib.pyplot as plt\n",
    "import sklearn.metrics as metrics\n",
    "import warnings\n",
    "warnings.filterwarnings(\"ignore\")"
   ]
  },
  {
   "cell_type": "code",
   "execution_count": 2,
   "id": "d65daadb",
   "metadata": {},
   "outputs": [],
   "source": [
    "# Exporting the clean data from the Report 1 \n",
    "clean_df = pd.read_csv(\"exported_dataframe.csv\")"
   ]
  },
  {
   "cell_type": "code",
   "execution_count": 3,
   "id": "40eeeed9",
   "metadata": {},
   "outputs": [],
   "source": [
    "# Dropping Location columns as it is not a good indicator for prediction as per EDA, VIF and Clustering methods applied before\n",
    "df = clean_df.drop(['Location'], axis = 1)"
   ]
  },
  {
   "cell_type": "code",
   "execution_count": 4,
   "id": "0def3e10",
   "metadata": {},
   "outputs": [
    {
     "name": "stdout",
     "output_type": "stream",
     "text": [
      "<class 'pandas.core.frame.DataFrame'>\n",
      "RangeIndex: 25000 entries, 0 to 24999\n",
      "Data columns (total 21 columns):\n",
      " #   Column                          Non-Null Count  Dtype  \n",
      "---  ------                          --------------  -----  \n",
      " 0   years_of_insurance_with_us      25000 non-null  float64\n",
      " 1   regular_checkup_lasy_year       25000 non-null  float64\n",
      " 2   adventure_sports                25000 non-null  float64\n",
      " 3   Occupation                      25000 non-null  float64\n",
      " 4   visited_doctor_last_1_year      25000 non-null  float64\n",
      " 5   cholesterol_level               25000 non-null  float64\n",
      " 6   daily_avg_steps                 25000 non-null  float64\n",
      " 7   age                             25000 non-null  float64\n",
      " 8   heart_decs_history              25000 non-null  float64\n",
      " 9   other_major_decs_history        25000 non-null  float64\n",
      " 10  Gender                          25000 non-null  float64\n",
      " 11  avg_glucose_level               25000 non-null  float64\n",
      " 12  bmi                             25000 non-null  float64\n",
      " 13  smoking_status                  25000 non-null  float64\n",
      " 14  weight                          25000 non-null  float64\n",
      " 15  covered_by_any_other_company    25000 non-null  float64\n",
      " 16  Alcohol                         25000 non-null  float64\n",
      " 17  exercise                        25000 non-null  float64\n",
      " 18  weight_change_in_last_one_year  25000 non-null  float64\n",
      " 19  fat_percentage                  25000 non-null  float64\n",
      " 20  insurance_cost                  25000 non-null  float64\n",
      "dtypes: float64(21)\n",
      "memory usage: 4.0 MB\n"
     ]
    }
   ],
   "source": [
    "df.info()"
   ]
  },
  {
   "cell_type": "markdown",
   "id": "5f652ea2",
   "metadata": {},
   "source": [
    "<B> As part of 1 A. We will be using 6 Models - \n",
    "    Linear Regression, \n",
    "    Lasso Regression, \n",
    "    Elastic Net Regression, \n",
    "    Decision Tree Regressor,\n",
    "    KNN, \n",
    "    Neural Network,\n",
    "   </B>"
   ]
  },
  {
   "cell_type": "markdown",
   "id": "566d0957",
   "metadata": {},
   "source": [
    "<b> #1 Model - Linear Regression <b> "
   ]
  },
  {
   "cell_type": "code",
   "execution_count": 5,
   "id": "82692664",
   "metadata": {},
   "outputs": [],
   "source": [
    "# Copy all the predictor variables into X dataframe\n",
    "X = df.drop('insurance_cost', axis=1)\n",
    "\n",
    "# Copy target into the y dataframe. \n",
    "y = df[['insurance_cost']]"
   ]
  },
  {
   "cell_type": "markdown",
   "id": "725c77ab",
   "metadata": {},
   "source": [
    "<b> Splitting the data into Train and Test set. 75% and 25% </b>"
   ]
  },
  {
   "cell_type": "code",
   "execution_count": 15,
   "id": "d2217d14",
   "metadata": {},
   "outputs": [],
   "source": [
    "# Split X and y into training and test set in 75:25 ratio\n",
    "from sklearn.model_selection import train_test_split\n",
    "X_train, X_test, y_train, y_test = train_test_split(X, y, test_size=0.25 , random_state=1, stratify=y)\n",
    "Default_train = pd.concat([X_train,y_train], axis=1)\n",
    "Default_test = pd.concat([X_test,y_test], axis=1)"
   ]
  },
  {
   "cell_type": "markdown",
   "id": "956f19ce",
   "metadata": {},
   "source": [
    "<b> Count of rows in Train set and Test set </b> "
   ]
  },
  {
   "cell_type": "code",
   "execution_count": 20,
   "id": "cbda7ca4",
   "metadata": {},
   "outputs": [
    {
     "name": "stdout",
     "output_type": "stream",
     "text": [
      "The count of values in Train dataset\n"
     ]
    },
    {
     "data": {
      "text/plain": [
       "18750"
      ]
     },
     "execution_count": 20,
     "metadata": {},
     "output_type": "execute_result"
    }
   ],
   "source": [
    "print(\"The count of values in Train dataset\")\n",
    "len(Default_train.index)"
   ]
  },
  {
   "cell_type": "code",
   "execution_count": 21,
   "id": "63294190",
   "metadata": {},
   "outputs": [
    {
     "name": "stdout",
     "output_type": "stream",
     "text": [
      "The count of values in Test dataset\n"
     ]
    },
    {
     "data": {
      "text/plain": [
       "6250"
      ]
     },
     "execution_count": 21,
     "metadata": {},
     "output_type": "execute_result"
    }
   ],
   "source": [
    "print(\"The count of values in Test dataset\")\n",
    "len(Default_test.index)"
   ]
  },
  {
   "cell_type": "code",
   "execution_count": 6,
   "id": "03b8762a",
   "metadata": {},
   "outputs": [
    {
     "data": {
      "text/plain": [
       "LinearRegression()"
      ]
     },
     "execution_count": 6,
     "metadata": {},
     "output_type": "execute_result"
    }
   ],
   "source": [
    "# invoke the LinearRegression function and find the bestfit model on training data\n",
    "regression_model = LinearRegression()\n",
    "regression_model.fit(X_train, y_train)"
   ]
  },
  {
   "cell_type": "code",
   "execution_count": 7,
   "id": "d45dc618",
   "metadata": {},
   "outputs": [
    {
     "name": "stdout",
     "output_type": "stream",
     "text": [
      "The coefficient for years_of_insurance_with_us is -6.803374896227611\n",
      "The coefficient for regular_checkup_lasy_year is -435.17047278889765\n",
      "The coefficient for adventure_sports is 141.74793926320203\n",
      "The coefficient for Occupation is -2.416491210399994\n",
      "The coefficient for visited_doctor_last_1_year is -59.81834800163315\n",
      "The coefficient for cholesterol_level is 30.372145613819402\n",
      "The coefficient for daily_avg_steps is -0.03920273552472452\n",
      "The coefficient for age is 3.0117264671940376\n",
      "The coefficient for heart_decs_history is 257.77626227838033\n",
      "The coefficient for other_major_decs_history is 66.36629958889448\n",
      "The coefficient for Gender is -40.47023484115922\n",
      "The coefficient for avg_glucose_level is -0.40447477258946946\n",
      "The coefficient for bmi is -6.297635488500966\n",
      "The coefficient for smoking_status is -5.960965274682659\n",
      "The coefficient for weight is 1486.844620273738\n",
      "The coefficient for covered_by_any_other_company is -1209.0873509495225\n",
      "The coefficient for Alcohol is 19.465470952155275\n",
      "The coefficient for exercise is 8.246776615847946\n",
      "The coefficient for weight_change_in_last_one_year is 159.91880327947396\n",
      "The coefficient for fat_percentage is -4.576039767568831\n"
     ]
    }
   ],
   "source": [
    "# Let us explore the coefficients for each of the independent attributes\n",
    "for idx, col_name in enumerate(X_train.columns):\n",
    "    print(\"The coefficient for {} is {}\".format(col_name, regression_model.coef_[0][idx]))"
   ]
  },
  {
   "cell_type": "code",
   "execution_count": 8,
   "id": "ec0f9bc5",
   "metadata": {},
   "outputs": [
    {
     "name": "stdout",
     "output_type": "stream",
     "text": [
      "The intercept for our model is -76760.18302662368\n"
     ]
    }
   ],
   "source": [
    "# Let us check the intercept for the model\n",
    "intercept = regression_model.intercept_[0]\n",
    "print(\"The intercept for our model is {}\".format(intercept))"
   ]
  },
  {
   "cell_type": "code",
   "execution_count": 9,
   "id": "ddf17a41",
   "metadata": {},
   "outputs": [
    {
     "data": {
      "text/plain": [
       "0.9449211409874587"
      ]
     },
     "execution_count": 9,
     "metadata": {},
     "output_type": "execute_result"
    }
   ],
   "source": [
    "# R square on training data\n",
    "regression_model.score(X_train, y_train)"
   ]
  },
  {
   "cell_type": "code",
   "execution_count": 10,
   "id": "09f9d4c5",
   "metadata": {},
   "outputs": [
    {
     "data": {
      "text/plain": [
       "0.9438339025535056"
      ]
     },
     "execution_count": 10,
     "metadata": {},
     "output_type": "execute_result"
    }
   ],
   "source": [
    "# R square on testing data\n",
    "regression_model.score(X_test, y_test)"
   ]
  },
  {
   "cell_type": "code",
   "execution_count": 11,
   "id": "4bc39d40",
   "metadata": {},
   "outputs": [
    {
     "data": {
      "text/plain": [
       "3361.38624609071"
      ]
     },
     "execution_count": 11,
     "metadata": {},
     "output_type": "execute_result"
    }
   ],
   "source": [
    "#RMSE on Training data\n",
    "predicted_train=regression_model.fit(X_train, y_train).predict(X_train)\n",
    "np.sqrt(metrics.mean_squared_error(y_train,predicted_train))"
   ]
  },
  {
   "cell_type": "code",
   "execution_count": 12,
   "id": "61c08bdc",
   "metadata": {},
   "outputs": [
    {
     "data": {
      "text/plain": [
       "3395.036008702231"
      ]
     },
     "execution_count": 12,
     "metadata": {},
     "output_type": "execute_result"
    }
   ],
   "source": [
    "#RMSE on Testing data\n",
    "predicted_test=regression_model.fit(X_train, y_train).predict(X_test)\n",
    "np.sqrt(metrics.mean_squared_error(y_test,predicted_test))"
   ]
  },
  {
   "cell_type": "code",
   "execution_count": 13,
   "id": "7cddac82",
   "metadata": {},
   "outputs": [
    {
     "data": {
      "text/plain": [
       "0.94460493756696"
      ]
     },
     "execution_count": 13,
     "metadata": {},
     "output_type": "execute_result"
    }
   ],
   "source": [
    "#display adjusted R-squared\n",
    "1 - (1-regression_model.score(X, y))*(len(y)-1)/(len(y)-X.shape[1]-1)"
   ]
  },
  {
   "cell_type": "code",
   "execution_count": 14,
   "id": "d284ce3a",
   "metadata": {},
   "outputs": [],
   "source": [
    "from sklearn.metrics import mean_absolute_percentage_error"
   ]
  },
  {
   "cell_type": "code",
   "execution_count": 15,
   "id": "443ec757",
   "metadata": {},
   "outputs": [
    {
     "data": {
      "text/plain": [
       "0.15263572729369276"
      ]
     },
     "execution_count": 15,
     "metadata": {},
     "output_type": "execute_result"
    }
   ],
   "source": [
    "#display MAPE for Train dataset\n",
    "mean_absolute_percentage_error(y_train, predicted_train)"
   ]
  },
  {
   "cell_type": "code",
   "execution_count": 16,
   "id": "c34bc588",
   "metadata": {},
   "outputs": [
    {
     "data": {
      "text/plain": [
       "0.1527539202707772"
      ]
     },
     "execution_count": 16,
     "metadata": {},
     "output_type": "execute_result"
    }
   ],
   "source": [
    "#display MAPE for Test dataset\n",
    "mean_absolute_percentage_error(y_test, predicted_test)"
   ]
  },
  {
   "cell_type": "markdown",
   "id": "97f467f9",
   "metadata": {},
   "source": [
    "<b> #2 Lasso Regression </b>"
   ]
  },
  {
   "cell_type": "code",
   "execution_count": 17,
   "id": "b4a5187d",
   "metadata": {},
   "outputs": [],
   "source": [
    "from sklearn.linear_model import Lasso"
   ]
  },
  {
   "cell_type": "code",
   "execution_count": 18,
   "id": "7d482168",
   "metadata": {},
   "outputs": [
    {
     "name": "stdout",
     "output_type": "stream",
     "text": [
      "Lasso model: [-6.79949038e+00 -4.35163440e+02  1.41614924e+02 -2.39734257e+00\n",
      " -5.98099068e+01  3.03710361e+01 -3.91984088e-02  3.01168305e+00\n",
      "  2.57604112e+02  6.62700276e+01 -4.04358545e+01 -4.04477065e-01\n",
      " -6.29592186e+00 -5.96040566e+00  1.48684476e+03 -1.20903344e+03\n",
      "  1.94407473e+01  8.22193724e+00  1.59913787e+02 -4.57606167e+00]\n"
     ]
    }
   ],
   "source": [
    "lasso = Lasso(alpha=0.01)\n",
    "lasso.fit(X_train,y_train)\n",
    "pred_train_lasso= lasso.predict(X_train)\n",
    "print (\"Lasso model:\", (lasso.coef_)) \n",
    "# Coeff is feature importance"
   ]
  },
  {
   "cell_type": "code",
   "execution_count": 19,
   "id": "18d552a8",
   "metadata": {},
   "outputs": [
    {
     "name": "stdout",
     "output_type": "stream",
     "text": [
      "0.9449211409589048\n"
     ]
    }
   ],
   "source": [
    "# R square on training  data\n",
    "print(lasso.score(X_train, y_train))"
   ]
  },
  {
   "cell_type": "code",
   "execution_count": 20,
   "id": "4c292e67",
   "metadata": {},
   "outputs": [
    {
     "name": "stdout",
     "output_type": "stream",
     "text": [
      "3361.386246962013\n"
     ]
    }
   ],
   "source": [
    "# RMSE on training  data\n",
    "print(np.sqrt(mean_squared_error(y_train,pred_train_lasso)))"
   ]
  },
  {
   "cell_type": "code",
   "execution_count": 21,
   "id": "05d7a4de",
   "metadata": {},
   "outputs": [],
   "source": [
    "pred_test_lasso= lasso.predict(X_test)"
   ]
  },
  {
   "cell_type": "code",
   "execution_count": 22,
   "id": "09299497",
   "metadata": {},
   "outputs": [
    {
     "name": "stdout",
     "output_type": "stream",
     "text": [
      "0.9438339347118933\n"
     ]
    }
   ],
   "source": [
    "# R square on test  data\n",
    "print(lasso.score(X_test, y_test))"
   ]
  },
  {
   "cell_type": "code",
   "execution_count": 23,
   "id": "0cd5c875",
   "metadata": {},
   "outputs": [
    {
     "name": "stdout",
     "output_type": "stream",
     "text": [
      "3395.0350367733918\n"
     ]
    }
   ],
   "source": [
    "# RMSE on training  data\n",
    "print(np.sqrt(mean_squared_error(y_test,pred_test_lasso)))"
   ]
  },
  {
   "cell_type": "code",
   "execution_count": 24,
   "id": "171bda56",
   "metadata": {},
   "outputs": [
    {
     "data": {
      "text/plain": [
       "0.9446049455938231"
      ]
     },
     "execution_count": 24,
     "metadata": {},
     "output_type": "execute_result"
    }
   ],
   "source": [
    "#display adjusted R-squared\n",
    "1 - (1-lasso.score(X, y))*(len(y)-1)/(len(y)-X.shape[1]-1)"
   ]
  },
  {
   "cell_type": "code",
   "execution_count": 25,
   "id": "6bbbfbb7",
   "metadata": {},
   "outputs": [
    {
     "data": {
      "text/plain": [
       "0.15263568154556945"
      ]
     },
     "execution_count": 25,
     "metadata": {},
     "output_type": "execute_result"
    }
   ],
   "source": [
    "#display MAPE for Train dataset\n",
    "mean_absolute_percentage_error(y_train, pred_train_lasso)"
   ]
  },
  {
   "cell_type": "code",
   "execution_count": 26,
   "id": "d77ef270",
   "metadata": {},
   "outputs": [
    {
     "data": {
      "text/plain": [
       "0.15275385049178591"
      ]
     },
     "execution_count": 26,
     "metadata": {},
     "output_type": "execute_result"
    }
   ],
   "source": [
    "#display MAPE for Test dataset\n",
    "mean_absolute_percentage_error(y_test, pred_test_lasso)"
   ]
  },
  {
   "cell_type": "markdown",
   "id": "db2bf698",
   "metadata": {},
   "source": [
    "<b> #3 Elastic Net Regression </b>"
   ]
  },
  {
   "cell_type": "code",
   "execution_count": 27,
   "id": "56642efe",
   "metadata": {},
   "outputs": [],
   "source": [
    "from sklearn.linear_model import ElasticNet"
   ]
  },
  {
   "cell_type": "code",
   "execution_count": 28,
   "id": "2b60be5c",
   "metadata": {},
   "outputs": [
    {
     "name": "stdout",
     "output_type": "stream",
     "text": [
      "3363.3807892281325\n",
      "0.9448557573956046\n",
      "3396.7314654076436\n",
      "0.943777790651201\n"
     ]
    }
   ],
   "source": [
    "model_enet = ElasticNet(alpha = 0.1)\n",
    "model_enet.fit(X_train, y_train) \n",
    "pred_train_enet= model_enet.predict(X_train)\n",
    "print(np.sqrt(mean_squared_error(y_train,pred_train_enet)))\n",
    "print(r2_score(y_train, pred_train_enet))\n",
    "\n",
    "pred_test_enet= model_enet.predict(X_test)\n",
    "print(np.sqrt(mean_squared_error(y_test,pred_test_enet)))\n",
    "print(r2_score(y_test, pred_test_enet))"
   ]
  },
  {
   "cell_type": "code",
   "execution_count": 29,
   "id": "6f1acb87",
   "metadata": {},
   "outputs": [
    {
     "data": {
      "text/plain": [
       "0.9445418220544701"
      ]
     },
     "execution_count": 29,
     "metadata": {},
     "output_type": "execute_result"
    }
   ],
   "source": [
    "#display adjusted R-squared\n",
    "1 - (1-model_enet.score(X, y))*(len(y)-1)/(len(y)-X.shape[1]-1)"
   ]
  },
  {
   "cell_type": "code",
   "execution_count": 30,
   "id": "11e93b23",
   "metadata": {},
   "outputs": [
    {
     "data": {
      "text/plain": [
       "0.15238425186908777"
      ]
     },
     "execution_count": 30,
     "metadata": {},
     "output_type": "execute_result"
    }
   ],
   "source": [
    "#display MAPE for Train dataset\n",
    "mean_absolute_percentage_error(y_train, pred_train_enet)"
   ]
  },
  {
   "cell_type": "code",
   "execution_count": 31,
   "id": "4b878c1f",
   "metadata": {},
   "outputs": [
    {
     "data": {
      "text/plain": [
       "0.15243537468841653"
      ]
     },
     "execution_count": 31,
     "metadata": {},
     "output_type": "execute_result"
    }
   ],
   "source": [
    "#display MAPE for Test dataset\n",
    "mean_absolute_percentage_error(y_test, pred_test_enet)"
   ]
  },
  {
   "cell_type": "markdown",
   "id": "3bbe7945",
   "metadata": {},
   "source": [
    "<b> #4 Decision Tree Regressor <b>"
   ]
  },
  {
   "cell_type": "code",
   "execution_count": 105,
   "id": "b096856f",
   "metadata": {},
   "outputs": [],
   "source": [
    "from sklearn.tree import DecisionTreeRegressor"
   ]
  },
  {
   "cell_type": "code",
   "execution_count": 106,
   "id": "dd2e22cd",
   "metadata": {},
   "outputs": [],
   "source": [
    "dt = DecisionTreeRegressor()"
   ]
  },
  {
   "cell_type": "code",
   "execution_count": 107,
   "id": "1ee1af7b",
   "metadata": {},
   "outputs": [
    {
     "data": {
      "text/plain": [
       "DecisionTreeRegressor()"
      ]
     },
     "execution_count": 107,
     "metadata": {},
     "output_type": "execute_result"
    }
   ],
   "source": [
    "dt.fit(X_train, y_train)"
   ]
  },
  {
   "cell_type": "code",
   "execution_count": 108,
   "id": "dc1936ee",
   "metadata": {},
   "outputs": [
    {
     "name": "stdout",
     "output_type": "stream",
     "text": [
      "0.0\n",
      "1.0\n"
     ]
    }
   ],
   "source": [
    "pred_train_dt= dt.predict(X_train)\n",
    "print(np.sqrt(mean_squared_error(y_train,pred_train_dt)))\n",
    "print(r2_score(y_train, pred_train_dt))"
   ]
  },
  {
   "cell_type": "code",
   "execution_count": 109,
   "id": "1bfcd8dc",
   "metadata": {},
   "outputs": [
    {
     "name": "stdout",
     "output_type": "stream",
     "text": [
      "4420.683363644132\n",
      "0.9047720801541184\n"
     ]
    }
   ],
   "source": [
    "pred_test_dt= dt.predict(X_test)\n",
    "print(np.sqrt(mean_squared_error(y_test,pred_test_dt)))\n",
    "print(r2_score(y_test, pred_test_dt))"
   ]
  },
  {
   "cell_type": "code",
   "execution_count": 84,
   "id": "e5402e4c",
   "metadata": {},
   "outputs": [],
   "source": [
    "pred_test_dt=dt.predict(X_test)"
   ]
  },
  {
   "cell_type": "code",
   "execution_count": 85,
   "id": "c4651127",
   "metadata": {},
   "outputs": [
    {
     "data": {
      "text/plain": [
       "0.976210647720655"
      ]
     },
     "execution_count": 85,
     "metadata": {},
     "output_type": "execute_result"
    }
   ],
   "source": [
    "#display adjusted R-squared\n",
    "1 - (1-dt.score(X, y))*(len(y)-1)/(len(y)-X.shape[1]-1)"
   ]
  },
  {
   "cell_type": "code",
   "execution_count": 86,
   "id": "ba52c18a",
   "metadata": {},
   "outputs": [
    {
     "data": {
      "text/plain": [
       "0.0"
      ]
     },
     "execution_count": 86,
     "metadata": {},
     "output_type": "execute_result"
    }
   ],
   "source": [
    "#display MAPE for Train dataset\n",
    "mean_absolute_percentage_error(y_train, pred_train_dt)"
   ]
  },
  {
   "cell_type": "code",
   "execution_count": 87,
   "id": "b82fb921",
   "metadata": {},
   "outputs": [
    {
     "data": {
      "text/plain": [
       "0.16175369599134345"
      ]
     },
     "execution_count": 87,
     "metadata": {},
     "output_type": "execute_result"
    }
   ],
   "source": [
    "#display MAPE for Test dataset\n",
    "mean_absolute_percentage_error(y_test, pred_test_dt)"
   ]
  },
  {
   "cell_type": "markdown",
   "id": "650d8945",
   "metadata": {},
   "source": [
    "<b> #5 KNN </b>"
   ]
  },
  {
   "cell_type": "markdown",
   "id": "97740bdd",
   "metadata": {},
   "source": [
    "<b>  For KNN and Neural Network, we will need Scaler as they are dependent on distance and weights respectively. </b>"
   ]
  },
  {
   "cell_type": "code",
   "execution_count": 110,
   "id": "78932665",
   "metadata": {},
   "outputs": [],
   "source": [
    "from sklearn.neighbors import KNeighborsRegressor"
   ]
  },
  {
   "cell_type": "code",
   "execution_count": 161,
   "id": "25102673",
   "metadata": {},
   "outputs": [],
   "source": [
    "# For KNN and Neural Network, we will need Scaling as they are dependent on distance and weights respectively. \n",
    "df_scaled = df"
   ]
  },
  {
   "cell_type": "code",
   "execution_count": 162,
   "id": "1a4e11c3",
   "metadata": {},
   "outputs": [],
   "source": [
    "# Copy all the predictor variables into X dataframe\n",
    "X = df_scaled .drop('insurance_cost', axis=1)\n",
    "\n",
    "# Copy target into the y dataframe. \n",
    "y = df_scaled [['insurance_cost']]"
   ]
  },
  {
   "cell_type": "code",
   "execution_count": 163,
   "id": "d4fe914b",
   "metadata": {},
   "outputs": [
    {
     "data": {
      "text/html": [
       "<div>\n",
       "<style scoped>\n",
       "    .dataframe tbody tr th:only-of-type {\n",
       "        vertical-align: middle;\n",
       "    }\n",
       "\n",
       "    .dataframe tbody tr th {\n",
       "        vertical-align: top;\n",
       "    }\n",
       "\n",
       "    .dataframe thead th {\n",
       "        text-align: right;\n",
       "    }\n",
       "</style>\n",
       "<table border=\"1\" class=\"dataframe\">\n",
       "  <thead>\n",
       "    <tr style=\"text-align: right;\">\n",
       "      <th></th>\n",
       "      <th>years_of_insurance_with_us</th>\n",
       "      <th>regular_checkup_lasy_year</th>\n",
       "      <th>adventure_sports</th>\n",
       "      <th>Occupation</th>\n",
       "      <th>visited_doctor_last_1_year</th>\n",
       "      <th>cholesterol_level</th>\n",
       "      <th>daily_avg_steps</th>\n",
       "      <th>age</th>\n",
       "      <th>heart_decs_history</th>\n",
       "      <th>other_major_decs_history</th>\n",
       "      <th>Gender</th>\n",
       "      <th>avg_glucose_level</th>\n",
       "      <th>bmi</th>\n",
       "      <th>smoking_status</th>\n",
       "      <th>weight</th>\n",
       "      <th>covered_by_any_other_company</th>\n",
       "      <th>Alcohol</th>\n",
       "      <th>exercise</th>\n",
       "      <th>weight_change_in_last_one_year</th>\n",
       "      <th>fat_percentage</th>\n",
       "    </tr>\n",
       "  </thead>\n",
       "  <tbody>\n",
       "    <tr>\n",
       "      <th>count</th>\n",
       "      <td>2.500000e+04</td>\n",
       "      <td>2.500000e+04</td>\n",
       "      <td>2.500000e+04</td>\n",
       "      <td>2.500000e+04</td>\n",
       "      <td>2.500000e+04</td>\n",
       "      <td>2.500000e+04</td>\n",
       "      <td>2.500000e+04</td>\n",
       "      <td>2.500000e+04</td>\n",
       "      <td>2.500000e+04</td>\n",
       "      <td>2.500000e+04</td>\n",
       "      <td>2.500000e+04</td>\n",
       "      <td>2.500000e+04</td>\n",
       "      <td>2.500000e+04</td>\n",
       "      <td>2.500000e+04</td>\n",
       "      <td>2.500000e+04</td>\n",
       "      <td>2.500000e+04</td>\n",
       "      <td>2.500000e+04</td>\n",
       "      <td>2.500000e+04</td>\n",
       "      <td>2.500000e+04</td>\n",
       "      <td>2.500000e+04</td>\n",
       "    </tr>\n",
       "    <tr>\n",
       "      <th>mean</th>\n",
       "      <td>-6.197443e-16</td>\n",
       "      <td>-1.056470e-15</td>\n",
       "      <td>-1.265019e-15</td>\n",
       "      <td>-7.321233e-16</td>\n",
       "      <td>4.659961e-16</td>\n",
       "      <td>-5.448442e-16</td>\n",
       "      <td>8.818057e-16</td>\n",
       "      <td>-8.559375e-17</td>\n",
       "      <td>-1.325162e-17</td>\n",
       "      <td>3.912026e-16</td>\n",
       "      <td>-7.317880e-16</td>\n",
       "      <td>-8.428813e-18</td>\n",
       "      <td>4.646949e-17</td>\n",
       "      <td>-3.528555e-16</td>\n",
       "      <td>4.625011e-16</td>\n",
       "      <td>-1.074723e-15</td>\n",
       "      <td>3.292149e-15</td>\n",
       "      <td>-8.366641e-18</td>\n",
       "      <td>-8.179235e-17</td>\n",
       "      <td>-3.092238e-16</td>\n",
       "    </tr>\n",
       "    <tr>\n",
       "      <th>std</th>\n",
       "      <td>1.000020e+00</td>\n",
       "      <td>1.000020e+00</td>\n",
       "      <td>1.000020e+00</td>\n",
       "      <td>1.000020e+00</td>\n",
       "      <td>1.000020e+00</td>\n",
       "      <td>1.000020e+00</td>\n",
       "      <td>1.000020e+00</td>\n",
       "      <td>1.000020e+00</td>\n",
       "      <td>1.000020e+00</td>\n",
       "      <td>1.000020e+00</td>\n",
       "      <td>1.000020e+00</td>\n",
       "      <td>1.000020e+00</td>\n",
       "      <td>1.000020e+00</td>\n",
       "      <td>1.000020e+00</td>\n",
       "      <td>1.000020e+00</td>\n",
       "      <td>1.000020e+00</td>\n",
       "      <td>1.000020e+00</td>\n",
       "      <td>1.000020e+00</td>\n",
       "      <td>1.000020e+00</td>\n",
       "      <td>1.000020e+00</td>\n",
       "    </tr>\n",
       "    <tr>\n",
       "      <th>min</th>\n",
       "      <td>-1.568750e+00</td>\n",
       "      <td>-6.450427e-01</td>\n",
       "      <td>-2.983160e-01</td>\n",
       "      <td>-1.632547e+00</td>\n",
       "      <td>-2.719070e+00</td>\n",
       "      <td>-1.002742e+00</td>\n",
       "      <td>-2.754823e+00</td>\n",
       "      <td>-1.795369e+00</td>\n",
       "      <td>-2.404123e-01</td>\n",
       "      <td>-3.299154e-01</td>\n",
       "      <td>-7.227365e-01</td>\n",
       "      <td>-1.762039e+00</td>\n",
       "      <td>-2.472117e+00</td>\n",
       "      <td>-1.451776e+00</td>\n",
       "      <td>-2.103001e+00</td>\n",
       "      <td>-1.515679e+00</td>\n",
       "      <td>-1.961268e+00</td>\n",
       "      <td>-1.545002e+00</td>\n",
       "      <td>-1.489652e+00</td>\n",
       "      <td>-2.063467e+00</td>\n",
       "    </tr>\n",
       "    <tr>\n",
       "      <th>25%</th>\n",
       "      <td>-8.014550e-01</td>\n",
       "      <td>-6.450427e-01</td>\n",
       "      <td>-2.983160e-01</td>\n",
       "      <td>-2.881346e-01</td>\n",
       "      <td>-9.672049e-01</td>\n",
       "      <td>-1.002742e+00</td>\n",
       "      <td>-6.576392e-01</td>\n",
       "      <td>-8.641071e-01</td>\n",
       "      <td>-2.404123e-01</td>\n",
       "      <td>-3.299154e-01</td>\n",
       "      <td>-7.227365e-01</td>\n",
       "      <td>-8.693024e-01</td>\n",
       "      <td>-6.590968e-01</td>\n",
       "      <td>-5.363603e-01</td>\n",
       "      <td>-8.161376e-01</td>\n",
       "      <td>-1.515679e+00</td>\n",
       "      <td>-3.710850e-01</td>\n",
       "      <td>8.325840e-03</td>\n",
       "      <td>-8.980412e-01</td>\n",
       "      <td>-9.050151e-01</td>\n",
       "    </tr>\n",
       "    <tr>\n",
       "      <th>50%</th>\n",
       "      <td>-3.415997e-02</td>\n",
       "      <td>-6.450427e-01</td>\n",
       "      <td>-2.983160e-01</td>\n",
       "      <td>-2.881346e-01</td>\n",
       "      <td>-9.127219e-02</td>\n",
       "      <td>-2.101859e-01</td>\n",
       "      <td>-5.425957e-02</td>\n",
       "      <td>5.071034e-03</td>\n",
       "      <td>-2.404123e-01</td>\n",
       "      <td>-3.299154e-01</td>\n",
       "      <td>-7.227365e-01</td>\n",
       "      <td>7.492612e-03</td>\n",
       "      <td>-1.022408e-01</td>\n",
       "      <td>-5.363603e-01</td>\n",
       "      <td>4.177160e-02</td>\n",
       "      <td>6.597703e-01</td>\n",
       "      <td>-3.710850e-01</td>\n",
       "      <td>8.325840e-03</td>\n",
       "      <td>2.851800e-01</td>\n",
       "      <td>2.534369e-01</td>\n",
       "    </tr>\n",
       "    <tr>\n",
       "      <th>75%</th>\n",
       "      <td>7.331350e-01</td>\n",
       "      <td>1.886905e-01</td>\n",
       "      <td>-2.983160e-01</td>\n",
       "      <td>1.056278e+00</td>\n",
       "      <td>7.846605e-01</td>\n",
       "      <td>5.823702e-01</td>\n",
       "      <td>5.892478e-01</td>\n",
       "      <td>8.742492e-01</td>\n",
       "      <td>-2.404123e-01</td>\n",
       "      <td>-3.299154e-01</td>\n",
       "      <td>1.383630e+00</td>\n",
       "      <td>8.683459e-01</td>\n",
       "      <td>5.064158e-01</td>\n",
       "      <td>1.294471e+00</td>\n",
       "      <td>6.852035e-01</td>\n",
       "      <td>6.597703e-01</td>\n",
       "      <td>1.219098e+00</td>\n",
       "      <td>8.325840e-03</td>\n",
       "      <td>8.767906e-01</td>\n",
       "      <td>8.326628e-01</td>\n",
       "    </tr>\n",
       "    <tr>\n",
       "      <th>max</th>\n",
       "      <td>1.500430e+00</td>\n",
       "      <td>3.523623e+00</td>\n",
       "      <td>3.352150e+00</td>\n",
       "      <td>1.056278e+00</td>\n",
       "      <td>7.792122e+00</td>\n",
       "      <td>2.167482e+00</td>\n",
       "      <td>2.805643e+00</td>\n",
       "      <td>1.805511e+00</td>\n",
       "      <td>4.159520e+00</td>\n",
       "      <td>3.031081e+00</td>\n",
       "      <td>1.383630e+00</td>\n",
       "      <td>1.745141e+00</td>\n",
       "      <td>8.962858e+00</td>\n",
       "      <td>1.294471e+00</td>\n",
       "      <td>2.615499e+00</td>\n",
       "      <td>6.597703e-01</td>\n",
       "      <td>1.219098e+00</td>\n",
       "      <td>1.561654e+00</td>\n",
       "      <td>2.060012e+00</td>\n",
       "      <td>1.527734e+00</td>\n",
       "    </tr>\n",
       "  </tbody>\n",
       "</table>\n",
       "</div>"
      ],
      "text/plain": [
       "       years_of_insurance_with_us  regular_checkup_lasy_year  \\\n",
       "count                2.500000e+04               2.500000e+04   \n",
       "mean                -6.197443e-16              -1.056470e-15   \n",
       "std                  1.000020e+00               1.000020e+00   \n",
       "min                 -1.568750e+00              -6.450427e-01   \n",
       "25%                 -8.014550e-01              -6.450427e-01   \n",
       "50%                 -3.415997e-02              -6.450427e-01   \n",
       "75%                  7.331350e-01               1.886905e-01   \n",
       "max                  1.500430e+00               3.523623e+00   \n",
       "\n",
       "       adventure_sports    Occupation  visited_doctor_last_1_year  \\\n",
       "count      2.500000e+04  2.500000e+04                2.500000e+04   \n",
       "mean      -1.265019e-15 -7.321233e-16                4.659961e-16   \n",
       "std        1.000020e+00  1.000020e+00                1.000020e+00   \n",
       "min       -2.983160e-01 -1.632547e+00               -2.719070e+00   \n",
       "25%       -2.983160e-01 -2.881346e-01               -9.672049e-01   \n",
       "50%       -2.983160e-01 -2.881346e-01               -9.127219e-02   \n",
       "75%       -2.983160e-01  1.056278e+00                7.846605e-01   \n",
       "max        3.352150e+00  1.056278e+00                7.792122e+00   \n",
       "\n",
       "       cholesterol_level  daily_avg_steps           age  heart_decs_history  \\\n",
       "count       2.500000e+04     2.500000e+04  2.500000e+04        2.500000e+04   \n",
       "mean       -5.448442e-16     8.818057e-16 -8.559375e-17       -1.325162e-17   \n",
       "std         1.000020e+00     1.000020e+00  1.000020e+00        1.000020e+00   \n",
       "min        -1.002742e+00    -2.754823e+00 -1.795369e+00       -2.404123e-01   \n",
       "25%        -1.002742e+00    -6.576392e-01 -8.641071e-01       -2.404123e-01   \n",
       "50%        -2.101859e-01    -5.425957e-02  5.071034e-03       -2.404123e-01   \n",
       "75%         5.823702e-01     5.892478e-01  8.742492e-01       -2.404123e-01   \n",
       "max         2.167482e+00     2.805643e+00  1.805511e+00        4.159520e+00   \n",
       "\n",
       "       other_major_decs_history        Gender  avg_glucose_level  \\\n",
       "count              2.500000e+04  2.500000e+04       2.500000e+04   \n",
       "mean               3.912026e-16 -7.317880e-16      -8.428813e-18   \n",
       "std                1.000020e+00  1.000020e+00       1.000020e+00   \n",
       "min               -3.299154e-01 -7.227365e-01      -1.762039e+00   \n",
       "25%               -3.299154e-01 -7.227365e-01      -8.693024e-01   \n",
       "50%               -3.299154e-01 -7.227365e-01       7.492612e-03   \n",
       "75%               -3.299154e-01  1.383630e+00       8.683459e-01   \n",
       "max                3.031081e+00  1.383630e+00       1.745141e+00   \n",
       "\n",
       "                bmi  smoking_status        weight  \\\n",
       "count  2.500000e+04    2.500000e+04  2.500000e+04   \n",
       "mean   4.646949e-17   -3.528555e-16  4.625011e-16   \n",
       "std    1.000020e+00    1.000020e+00  1.000020e+00   \n",
       "min   -2.472117e+00   -1.451776e+00 -2.103001e+00   \n",
       "25%   -6.590968e-01   -5.363603e-01 -8.161376e-01   \n",
       "50%   -1.022408e-01   -5.363603e-01  4.177160e-02   \n",
       "75%    5.064158e-01    1.294471e+00  6.852035e-01   \n",
       "max    8.962858e+00    1.294471e+00  2.615499e+00   \n",
       "\n",
       "       covered_by_any_other_company       Alcohol      exercise  \\\n",
       "count                  2.500000e+04  2.500000e+04  2.500000e+04   \n",
       "mean                  -1.074723e-15  3.292149e-15 -8.366641e-18   \n",
       "std                    1.000020e+00  1.000020e+00  1.000020e+00   \n",
       "min                   -1.515679e+00 -1.961268e+00 -1.545002e+00   \n",
       "25%                   -1.515679e+00 -3.710850e-01  8.325840e-03   \n",
       "50%                    6.597703e-01 -3.710850e-01  8.325840e-03   \n",
       "75%                    6.597703e-01  1.219098e+00  8.325840e-03   \n",
       "max                    6.597703e-01  1.219098e+00  1.561654e+00   \n",
       "\n",
       "       weight_change_in_last_one_year  fat_percentage  \n",
       "count                    2.500000e+04    2.500000e+04  \n",
       "mean                    -8.179235e-17   -3.092238e-16  \n",
       "std                      1.000020e+00    1.000020e+00  \n",
       "min                     -1.489652e+00   -2.063467e+00  \n",
       "25%                     -8.980412e-01   -9.050151e-01  \n",
       "50%                      2.851800e-01    2.534369e-01  \n",
       "75%                      8.767906e-01    8.326628e-01  \n",
       "max                      2.060012e+00    1.527734e+00  "
      ]
     },
     "execution_count": 163,
     "metadata": {},
     "output_type": "execute_result"
    }
   ],
   "source": [
    "from scipy.stats import zscore\n",
    "XScaled  = X.apply(zscore)  # convert all attributes to Z scale \n",
    "XScaled.describe()"
   ]
  },
  {
   "cell_type": "code",
   "execution_count": 164,
   "id": "f39bf736",
   "metadata": {},
   "outputs": [],
   "source": [
    "# Split X and y into training and test set in 75:25 ratio\n",
    "from sklearn.model_selection import train_test_split\n",
    "X_train, X_test, y_train, y_test = train_test_split(XScaled, y, test_size=0.25 , random_state=1, stratify=y)"
   ]
  },
  {
   "cell_type": "code",
   "execution_count": 115,
   "id": "237e71d4",
   "metadata": {},
   "outputs": [],
   "source": [
    "NNH = KNeighborsRegressor(n_neighbors= 5 , weights = 'distance' )"
   ]
  },
  {
   "cell_type": "code",
   "execution_count": 116,
   "id": "f91b332b",
   "metadata": {},
   "outputs": [
    {
     "data": {
      "text/plain": [
       "KNeighborsRegressor(weights='distance')"
      ]
     },
     "execution_count": 116,
     "metadata": {},
     "output_type": "execute_result"
    }
   ],
   "source": [
    "NNH.fit(X_train, y_train)"
   ]
  },
  {
   "cell_type": "code",
   "execution_count": 117,
   "id": "563c4346",
   "metadata": {},
   "outputs": [
    {
     "data": {
      "text/plain": [
       "0.9999999999999997"
      ]
     },
     "execution_count": 117,
     "metadata": {},
     "output_type": "execute_result"
    }
   ],
   "source": [
    "predicted_labels_train = NNH.predict(X_train)\n",
    "NNH.score(X_train, y_train)"
   ]
  },
  {
   "cell_type": "code",
   "execution_count": 118,
   "id": "7351b4f6",
   "metadata": {},
   "outputs": [
    {
     "data": {
      "text/plain": [
       "0.7434544196160349"
      ]
     },
     "execution_count": 118,
     "metadata": {},
     "output_type": "execute_result"
    }
   ],
   "source": [
    "predicted_labels_test = NNH.predict(X_test)\n",
    "NNH.score(X_test, y_test)"
   ]
  },
  {
   "cell_type": "code",
   "execution_count": 18,
   "id": "3b2fffc3",
   "metadata": {},
   "outputs": [
    {
     "data": {
      "text/plain": [
       "-0.5813921223320413"
      ]
     },
     "execution_count": 18,
     "metadata": {},
     "output_type": "execute_result"
    }
   ],
   "source": [
    "#display adjusted R-squared\n",
    "1 - (1-NNH.score(X, y))*(len(y)-1)/(len(y)-X.shape[1]-1)"
   ]
  },
  {
   "cell_type": "code",
   "execution_count": 22,
   "id": "77b5332d",
   "metadata": {},
   "outputs": [
    {
     "data": {
      "text/plain": [
       "3.05654248666775e-09"
      ]
     },
     "execution_count": 22,
     "metadata": {},
     "output_type": "execute_result"
    }
   ],
   "source": [
    "#display MAPE for Train dataset\n",
    "mean_absolute_percentage_error(y_train, predicted_labels_train)"
   ]
  },
  {
   "cell_type": "code",
   "execution_count": 23,
   "id": "2fecd6f3",
   "metadata": {},
   "outputs": [
    {
     "data": {
      "text/plain": [
       "0.32852809100577085"
      ]
     },
     "execution_count": 23,
     "metadata": {},
     "output_type": "execute_result"
    }
   ],
   "source": [
    "#display MAPE for Test dataset\n",
    "mean_absolute_percentage_error(y_test, predicted_labels_test)"
   ]
  },
  {
   "cell_type": "markdown",
   "id": "d4d3e3be",
   "metadata": {},
   "source": [
    "<b> #6 Neural Network </b>"
   ]
  },
  {
   "cell_type": "code",
   "execution_count": 24,
   "id": "4fd561ae",
   "metadata": {},
   "outputs": [],
   "source": [
    "from sklearn.neural_network import MLPRegressor"
   ]
  },
  {
   "cell_type": "code",
   "execution_count": 25,
   "id": "7ad224a6",
   "metadata": {},
   "outputs": [],
   "source": [
    "mlp = MLPRegressor()"
   ]
  },
  {
   "cell_type": "code",
   "execution_count": 26,
   "id": "6b6d9ed9",
   "metadata": {},
   "outputs": [
    {
     "data": {
      "text/plain": [
       "MLPRegressor()"
      ]
     },
     "execution_count": 26,
     "metadata": {},
     "output_type": "execute_result"
    }
   ],
   "source": [
    "mlp.fit(X_train, y_train)"
   ]
  },
  {
   "cell_type": "code",
   "execution_count": 27,
   "id": "8230627a",
   "metadata": {},
   "outputs": [
    {
     "name": "stdout",
     "output_type": "stream",
     "text": [
      "4347.945466706885\n",
      "0.9078455578739867\n"
     ]
    }
   ],
   "source": [
    "pred_train_mlp= mlp.predict(X_train)\n",
    "print(np.sqrt(mean_squared_error(y_train,pred_train_mlp)))\n",
    "print(r2_score(y_train, pred_train_mlp))"
   ]
  },
  {
   "cell_type": "code",
   "execution_count": 28,
   "id": "f89be0a4",
   "metadata": {},
   "outputs": [
    {
     "name": "stdout",
     "output_type": "stream",
     "text": [
      "4374.838611635203\n",
      "0.9067369632897377\n"
     ]
    }
   ],
   "source": [
    "pred_test_mlp = mlp.predict(X_test)\n",
    "print(np.sqrt(mean_squared_error(y_test,pred_test_mlp)))\n",
    "print(r2_score(y_test, pred_test_mlp))"
   ]
  },
  {
   "cell_type": "code",
   "execution_count": 29,
   "id": "1408687f",
   "metadata": {},
   "outputs": [
    {
     "data": {
      "text/plain": [
       "-2222440.9441541247"
      ]
     },
     "execution_count": 29,
     "metadata": {},
     "output_type": "execute_result"
    }
   ],
   "source": [
    "#display adjusted R-squared\n",
    "1 - (1-mlp.score(X, y))*(len(y)-1)/(len(y)-X.shape[1]-1)"
   ]
  },
  {
   "cell_type": "code",
   "execution_count": 30,
   "id": "543e3f10",
   "metadata": {},
   "outputs": [
    {
     "data": {
      "text/plain": [
       "0.20004231855583043"
      ]
     },
     "execution_count": 30,
     "metadata": {},
     "output_type": "execute_result"
    }
   ],
   "source": [
    "#display MAPE for Train dataset\n",
    "mean_absolute_percentage_error(y_train, pred_train_mlp)"
   ]
  },
  {
   "cell_type": "code",
   "execution_count": 31,
   "id": "3e295670",
   "metadata": {},
   "outputs": [
    {
     "data": {
      "text/plain": [
       "0.19949486439341207"
      ]
     },
     "execution_count": 31,
     "metadata": {},
     "output_type": "execute_result"
    }
   ],
   "source": [
    "#display MAPE for Test dataset\n",
    "mean_absolute_percentage_error(y_test, pred_test_mlp)"
   ]
  },
  {
   "cell_type": "markdown",
   "id": "3b040eb7",
   "metadata": {},
   "source": [
    "<b> Ensemble Models - Random Forest , Gradient Boost , XGBoost  </b>"
   ]
  },
  {
   "cell_type": "markdown",
   "id": "eaccb96d",
   "metadata": {},
   "source": [
    "<b> Random Forest Regressor </b> "
   ]
  },
  {
   "cell_type": "code",
   "execution_count": 32,
   "id": "da01d3ee",
   "metadata": {},
   "outputs": [],
   "source": [
    "from sklearn.ensemble import RandomForestRegressor"
   ]
  },
  {
   "cell_type": "code",
   "execution_count": 33,
   "id": "e8c28bf6",
   "metadata": {},
   "outputs": [],
   "source": [
    "rfr = RandomForestRegressor(n_estimators = 1000, random_state = 42)"
   ]
  },
  {
   "cell_type": "code",
   "execution_count": 34,
   "id": "958a374c",
   "metadata": {},
   "outputs": [
    {
     "data": {
      "text/plain": [
       "RandomForestRegressor(n_estimators=1000, random_state=42)"
      ]
     },
     "execution_count": 34,
     "metadata": {},
     "output_type": "execute_result"
    }
   ],
   "source": [
    "rfr.fit(X_train, y_train)"
   ]
  },
  {
   "cell_type": "code",
   "execution_count": 35,
   "id": "f2b81836",
   "metadata": {},
   "outputs": [
    {
     "name": "stdout",
     "output_type": "stream",
     "text": [
      "1144.530093774009\n",
      "0.9936143879464452\n"
     ]
    }
   ],
   "source": [
    "pred_train_rfr= rfr.predict(X_train)\n",
    "print(np.sqrt(mean_squared_error(y_train,pred_train_rfr)))\n",
    "print(r2_score(y_train, pred_train_rfr))"
   ]
  },
  {
   "cell_type": "code",
   "execution_count": 36,
   "id": "07de0f15",
   "metadata": {},
   "outputs": [
    {
     "name": "stdout",
     "output_type": "stream",
     "text": [
      "3133.9876832740974\n",
      "0.9521391893787464\n"
     ]
    }
   ],
   "source": [
    "pred_test_rfr = rfr.predict(X_test)\n",
    "print(np.sqrt(mean_squared_error(y_test,pred_test_rfr)))\n",
    "print(r2_score(y_test, pred_test_rfr))"
   ]
  },
  {
   "cell_type": "code",
   "execution_count": 37,
   "id": "b8ff507f",
   "metadata": {},
   "outputs": [
    {
     "data": {
      "text/plain": [
       "0.983229259120087"
      ]
     },
     "execution_count": 37,
     "metadata": {},
     "output_type": "execute_result"
    }
   ],
   "source": [
    "#display adjusted R-squared\n",
    "1 - (1-rfr.score(X, y))*(len(y)-1)/(len(y)-X.shape[1]-1)"
   ]
  },
  {
   "cell_type": "code",
   "execution_count": 38,
   "id": "8e1a8440",
   "metadata": {},
   "outputs": [
    {
     "data": {
      "text/plain": [
       "0.04507272583341721"
      ]
     },
     "execution_count": 38,
     "metadata": {},
     "output_type": "execute_result"
    }
   ],
   "source": [
    "#display MAPE for Train dataset\n",
    "mean_absolute_percentage_error(y_train, pred_train_rfr)"
   ]
  },
  {
   "cell_type": "code",
   "execution_count": 39,
   "id": "0181b154",
   "metadata": {},
   "outputs": [
    {
     "data": {
      "text/plain": [
       "0.12361049401929315"
      ]
     },
     "execution_count": 39,
     "metadata": {},
     "output_type": "execute_result"
    }
   ],
   "source": [
    "#display MAPE for Test dataset\n",
    "mean_absolute_percentage_error(y_test, pred_test_rfr)"
   ]
  },
  {
   "cell_type": "markdown",
   "id": "d9fcbf4f",
   "metadata": {},
   "source": [
    "<b> Gradient Boost </b>"
   ]
  },
  {
   "cell_type": "code",
   "execution_count": 40,
   "id": "349a2760",
   "metadata": {},
   "outputs": [],
   "source": [
    "from sklearn.ensemble import GradientBoostingRegressor"
   ]
  },
  {
   "cell_type": "code",
   "execution_count": 41,
   "id": "d08e7b90",
   "metadata": {},
   "outputs": [],
   "source": [
    "gbr = GradientBoostingRegressor()"
   ]
  },
  {
   "cell_type": "code",
   "execution_count": 42,
   "id": "1cdb0609",
   "metadata": {},
   "outputs": [
    {
     "data": {
      "text/plain": [
       "GradientBoostingRegressor()"
      ]
     },
     "execution_count": 42,
     "metadata": {},
     "output_type": "execute_result"
    }
   ],
   "source": [
    "gbr.fit(X_train, y_train)"
   ]
  },
  {
   "cell_type": "code",
   "execution_count": 43,
   "id": "52ee1dbb",
   "metadata": {},
   "outputs": [
    {
     "name": "stdout",
     "output_type": "stream",
     "text": [
      "2978.2050417117835\n",
      "0.9567628273882008\n"
     ]
    }
   ],
   "source": [
    "pred_train_gbr= gbr.predict(X_train)\n",
    "print(np.sqrt(mean_squared_error(y_train,pred_train_gbr)))\n",
    "print(r2_score(y_train, pred_train_gbr))"
   ]
  },
  {
   "cell_type": "code",
   "execution_count": 44,
   "id": "15a4bd2a",
   "metadata": {},
   "outputs": [
    {
     "name": "stdout",
     "output_type": "stream",
     "text": [
      "3072.8868332370853\n",
      "0.953987205250881\n"
     ]
    }
   ],
   "source": [
    "pred_test_gbr = gbr.predict(X_test)\n",
    "print(np.sqrt(mean_squared_error(y_test,pred_test_gbr)))\n",
    "print(r2_score(y_test, pred_test_gbr))"
   ]
  },
  {
   "cell_type": "code",
   "execution_count": 45,
   "id": "e5275c58",
   "metadata": {},
   "outputs": [
    {
     "data": {
      "text/plain": [
       "0.9560335526783004"
      ]
     },
     "execution_count": 45,
     "metadata": {},
     "output_type": "execute_result"
    }
   ],
   "source": [
    "#display adjusted R-squared\n",
    "1 - (1-gbr.score(X, y))*(len(y)-1)/(len(y)-X.shape[1]-1)"
   ]
  },
  {
   "cell_type": "code",
   "execution_count": 46,
   "id": "af2fc227",
   "metadata": {},
   "outputs": [
    {
     "data": {
      "text/plain": [
       "0.12024866876768003"
      ]
     },
     "execution_count": 46,
     "metadata": {},
     "output_type": "execute_result"
    }
   ],
   "source": [
    "#display MAPE for Train dataset\n",
    "mean_absolute_percentage_error(y_train, pred_train_gbr)"
   ]
  },
  {
   "cell_type": "code",
   "execution_count": 47,
   "id": "f2bcc206",
   "metadata": {},
   "outputs": [
    {
     "data": {
      "text/plain": [
       "0.12333915086811069"
      ]
     },
     "execution_count": 47,
     "metadata": {},
     "output_type": "execute_result"
    }
   ],
   "source": [
    "#display MAPE for Test dataset\n",
    "mean_absolute_percentage_error(y_test, pred_test_gbr)"
   ]
  },
  {
   "cell_type": "markdown",
   "id": "089ae522",
   "metadata": {},
   "source": [
    "<b> XGBoost </b>"
   ]
  },
  {
   "cell_type": "code",
   "execution_count": 48,
   "id": "3c3af685",
   "metadata": {},
   "outputs": [],
   "source": [
    "import xgboost as xgb"
   ]
  },
  {
   "cell_type": "code",
   "execution_count": 50,
   "id": "16b038c8",
   "metadata": {},
   "outputs": [],
   "source": [
    "xgboost = xgb.XGBRegressor()"
   ]
  },
  {
   "cell_type": "code",
   "execution_count": 51,
   "id": "d677af64",
   "metadata": {},
   "outputs": [
    {
     "data": {
      "text/plain": [
       "XGBRegressor(base_score=0.5, booster='gbtree', colsample_bylevel=1,\n",
       "             colsample_bynode=1, colsample_bytree=1, enable_categorical=False,\n",
       "             gamma=0, gpu_id=-1, importance_type=None,\n",
       "             interaction_constraints='', learning_rate=0.300000012,\n",
       "             max_delta_step=0, max_depth=6, min_child_weight=1, missing=nan,\n",
       "             monotone_constraints='()', n_estimators=100, n_jobs=8,\n",
       "             num_parallel_tree=1, predictor='auto', random_state=0, reg_alpha=0,\n",
       "             reg_lambda=1, scale_pos_weight=1, subsample=1, tree_method='exact',\n",
       "             validate_parameters=1, verbosity=None)"
      ]
     },
     "execution_count": 51,
     "metadata": {},
     "output_type": "execute_result"
    }
   ],
   "source": [
    "xgboost.fit(X_train, y_train)"
   ]
  },
  {
   "cell_type": "code",
   "execution_count": 52,
   "id": "b4a13124",
   "metadata": {},
   "outputs": [
    {
     "name": "stdout",
     "output_type": "stream",
     "text": [
      "2296.7000552574423\n",
      "0.9742867685330494\n"
     ]
    }
   ],
   "source": [
    "pred_train_xgboost= xgboost.predict(X_train)\n",
    "print(np.sqrt(mean_squared_error(y_train,pred_train_xgboost)))\n",
    "print(r2_score(y_train, pred_train_xgboost))"
   ]
  },
  {
   "cell_type": "code",
   "execution_count": 53,
   "id": "32c5637b",
   "metadata": {},
   "outputs": [
    {
     "name": "stdout",
     "output_type": "stream",
     "text": [
      "3188.3492915854\n",
      "0.9504644184409494\n"
     ]
    }
   ],
   "source": [
    "pred_test_xgboost = xgboost.predict(X_test)\n",
    "print(np.sqrt(mean_squared_error(y_test,pred_test_xgboost)))\n",
    "print(r2_score(y_test, pred_test_xgboost))"
   ]
  },
  {
   "cell_type": "code",
   "execution_count": 54,
   "id": "7af1bb4e",
   "metadata": {},
   "outputs": [
    {
     "data": {
      "text/plain": [
       "0.9683041508420924"
      ]
     },
     "execution_count": 54,
     "metadata": {},
     "output_type": "execute_result"
    }
   ],
   "source": [
    "#display adjusted R-squared\n",
    "1 - (1-xgboost.score(X, y))*(len(y)-1)/(len(y)-X.shape[1]-1)"
   ]
  },
  {
   "cell_type": "code",
   "execution_count": 55,
   "id": "f1d3ce01",
   "metadata": {},
   "outputs": [
    {
     "data": {
      "text/plain": [
       "0.08994131811253583"
      ]
     },
     "execution_count": 55,
     "metadata": {},
     "output_type": "execute_result"
    }
   ],
   "source": [
    "#display MAPE for Train dataset\n",
    "mean_absolute_percentage_error(y_train, pred_train_xgboost)"
   ]
  },
  {
   "cell_type": "code",
   "execution_count": 56,
   "id": "95e89748",
   "metadata": {},
   "outputs": [
    {
     "data": {
      "text/plain": [
       "0.12646674441961947"
      ]
     },
     "execution_count": 56,
     "metadata": {},
     "output_type": "execute_result"
    }
   ],
   "source": [
    "#display MAPE for Test dataset\n",
    "mean_absolute_percentage_error(y_test, pred_test_xgboost)"
   ]
  },
  {
   "cell_type": "markdown",
   "id": "e9b772d0",
   "metadata": {},
   "source": [
    "<b> Model Tuning - Hyper parameter tuning of the above Models </b>"
   ]
  },
  {
   "cell_type": "markdown",
   "id": "baca6240",
   "metadata": {},
   "source": [
    "<b> Tuning Linear Regression </b>"
   ]
  },
  {
   "cell_type": "code",
   "execution_count": 60,
   "id": "2f892bd4",
   "metadata": {},
   "outputs": [],
   "source": [
    " from sklearn.model_selection import GridSearchCV"
   ]
  },
  {
   "cell_type": "code",
   "execution_count": 61,
   "id": "d584fcf6",
   "metadata": {},
   "outputs": [],
   "source": [
    "from sklearn.linear_model import SGDRegressor"
   ]
  },
  {
   "cell_type": "code",
   "execution_count": 66,
   "id": "876e75b8",
   "metadata": {},
   "outputs": [],
   "source": [
    "# setting parameters for Grid Search, to find the best combinations\n",
    "param_grid_search = {\n",
    "    'max_iter': [1000,1500],\n",
    "    'tol': [1e-2],\n",
    "    'penalty': ['l2'], \n",
    "    'random_state': [1,30,45],\n",
    "    'learning_rate':['invscaling']\n",
    "}\n",
    "\n",
    "ft_lr = SGDRegressor()\n",
    "\n",
    "grid_search_ft_lr = GridSearchCV(estimator = ft_lr, param_grid = param_grid_search, cv = 10)"
   ]
  },
  {
   "cell_type": "code",
   "execution_count": 67,
   "id": "6a84fd86",
   "metadata": {},
   "outputs": [
    {
     "name": "stdout",
     "output_type": "stream",
     "text": [
      "{'learning_rate': 'invscaling', 'max_iter': 1000, 'penalty': 'l2', 'random_state': 30, 'tol': 0.01}\n"
     ]
    },
    {
     "data": {
      "text/plain": [
       "SGDRegressor(random_state=30, tol=0.01)"
      ]
     },
     "execution_count": 67,
     "metadata": {},
     "output_type": "execute_result"
    }
   ],
   "source": [
    "grid_search_ft_lr.fit(X_train, y_train)\n",
    "print(grid_search_ft_lr.best_params_)\n",
    "best_grid_lr = grid_search_ft_lr.best_estimator_\n",
    "best_grid_lr "
   ]
  },
  {
   "cell_type": "code",
   "execution_count": 68,
   "id": "dfafda04",
   "metadata": {},
   "outputs": [
    {
     "name": "stdout",
     "output_type": "stream",
     "text": [
      "3550053853466174.5\n",
      "-6.143529953895646e+22\n"
     ]
    }
   ],
   "source": [
    "pred_train_ftlr= grid_search_ft_lr.predict(X_train)\n",
    "print(np.sqrt(mean_squared_error(y_train,pred_train_ftlr)))\n",
    "print(r2_score(y_train, pred_train_ftlr))"
   ]
  },
  {
   "cell_type": "code",
   "execution_count": 69,
   "id": "49b5495d",
   "metadata": {},
   "outputs": [
    {
     "name": "stdout",
     "output_type": "stream",
     "text": [
      "3539007160295076.5\n",
      "-6.103070151759108e+22\n"
     ]
    }
   ],
   "source": [
    "pred_test_ftlr= grid_search_ft_lr.predict(X_test)\n",
    "print(np.sqrt(mean_squared_error(y_test,pred_test_ftlr)))\n",
    "print(r2_score(y_test, pred_test_ftlr))"
   ]
  },
  {
   "cell_type": "code",
   "execution_count": 70,
   "id": "b4236d6e",
   "metadata": {},
   "outputs": [
    {
     "data": {
      "text/plain": [
       "-6.138322978465769e+22"
      ]
     },
     "execution_count": 70,
     "metadata": {},
     "output_type": "execute_result"
    }
   ],
   "source": [
    "#display adjusted R-squared\n",
    "1 - (1-grid_search_ft_lr.score(X, y))*(len(y)-1)/(len(y)-X.shape[1]-1)"
   ]
  },
  {
   "cell_type": "code",
   "execution_count": 71,
   "id": "5d5e38d4",
   "metadata": {},
   "outputs": [
    {
     "data": {
      "text/plain": [
       "197870071564.1879"
      ]
     },
     "execution_count": 71,
     "metadata": {},
     "output_type": "execute_result"
    }
   ],
   "source": [
    "#display MAPE for Train dataset\n",
    "mean_absolute_percentage_error(y_train, pred_train_ftlr)"
   ]
  },
  {
   "cell_type": "code",
   "execution_count": 72,
   "id": "babc9229",
   "metadata": {},
   "outputs": [
    {
     "data": {
      "text/plain": [
       "197326437607.8904"
      ]
     },
     "execution_count": 72,
     "metadata": {},
     "output_type": "execute_result"
    }
   ],
   "source": [
    "#display MAPE for Test dataset\n",
    "mean_absolute_percentage_error(y_test, pred_test_ftlr)"
   ]
  },
  {
   "cell_type": "markdown",
   "id": "0b82f5f2",
   "metadata": {},
   "source": [
    "<b> Fine tune Lasso Regression </b>"
   ]
  },
  {
   "cell_type": "code",
   "execution_count": 76,
   "id": "b85c18c7",
   "metadata": {},
   "outputs": [],
   "source": [
    "# setting parameters for Grid Search, to find the best combinations\n",
    "param_grid_search = {\n",
    "    'alpha': [1,0.1,0.01],\n",
    "    'max_iter': [1000,1500],\n",
    "    'tol': [1e-2],\n",
    "    'random_state': [1,30,45],\n",
    "    'selection':['cyclic','random']\n",
    "}\n",
    "\n",
    "lsso_ft = Lasso()\n",
    "\n",
    "grid_search_ft_lasso = GridSearchCV(estimator = lsso_ft, param_grid = param_grid_search, cv = 10)"
   ]
  },
  {
   "cell_type": "code",
   "execution_count": 77,
   "id": "fb809e5c",
   "metadata": {},
   "outputs": [
    {
     "name": "stdout",
     "output_type": "stream",
     "text": [
      "{'alpha': 1, 'max_iter': 1000, 'random_state': 1, 'selection': 'random', 'tol': 0.01}\n"
     ]
    },
    {
     "data": {
      "text/plain": [
       "Lasso(alpha=1, random_state=1, selection='random', tol=0.01)"
      ]
     },
     "execution_count": 77,
     "metadata": {},
     "output_type": "execute_result"
    }
   ],
   "source": [
    "grid_search_ft_lasso.fit(X_train, y_train)\n",
    "print(grid_search_ft_lasso.best_params_)\n",
    "best_grid_lasso = grid_search_ft_lasso.best_estimator_\n",
    "best_grid_lasso"
   ]
  },
  {
   "cell_type": "code",
   "execution_count": 78,
   "id": "eb52edf8",
   "metadata": {},
   "outputs": [
    {
     "name": "stdout",
     "output_type": "stream",
     "text": [
      "3361.394946569643\n",
      "0.9449208558592184\n"
     ]
    }
   ],
   "source": [
    "pred_train_ftlasso = grid_search_ft_lasso.predict(X_train)\n",
    "print(np.sqrt(mean_squared_error(y_train,pred_train_ftlasso)))\n",
    "print(r2_score(y_train, pred_train_ftlasso))"
   ]
  },
  {
   "cell_type": "code",
   "execution_count": 79,
   "id": "f41e62ef",
   "metadata": {},
   "outputs": [
    {
     "name": "stdout",
     "output_type": "stream",
     "text": [
      "3394.9473236476388\n",
      "0.9438368368542597\n"
     ]
    }
   ],
   "source": [
    "pred_test_ftlasso= grid_search_ft_lasso.predict(X_test)\n",
    "print(np.sqrt(mean_squared_error(y_test,pred_test_ftlasso)))\n",
    "print(r2_score(y_test, pred_test_ftlasso))"
   ]
  },
  {
   "cell_type": "code",
   "execution_count": 81,
   "id": "ac73102c",
   "metadata": {},
   "outputs": [
    {
     "data": {
      "text/plain": [
       "0.9446054579383294"
      ]
     },
     "execution_count": 81,
     "metadata": {},
     "output_type": "execute_result"
    }
   ],
   "source": [
    "#display adjusted R-squared\n",
    "1 - (1-grid_search_ft_lasso.score(X, y))*(len(y)-1)/(len(y)-X.shape[1]-1)"
   ]
  },
  {
   "cell_type": "code",
   "execution_count": 82,
   "id": "503155e9",
   "metadata": {},
   "outputs": [
    {
     "data": {
      "text/plain": [
       "0.15263146435499464"
      ]
     },
     "execution_count": 82,
     "metadata": {},
     "output_type": "execute_result"
    }
   ],
   "source": [
    "#display MAPE for Train dataset\n",
    "mean_absolute_percentage_error(y_train, pred_train_ftlasso)"
   ]
  },
  {
   "cell_type": "code",
   "execution_count": 83,
   "id": "86fae2a7",
   "metadata": {},
   "outputs": [
    {
     "data": {
      "text/plain": [
       "0.15274730890248825"
      ]
     },
     "execution_count": 83,
     "metadata": {},
     "output_type": "execute_result"
    }
   ],
   "source": [
    "#display MAPE for Test dataset\n",
    "mean_absolute_percentage_error(y_test, pred_test_ftlasso)"
   ]
  },
  {
   "cell_type": "markdown",
   "id": "5c676d3a",
   "metadata": {},
   "source": [
    "<b> Fine Tune Elastic Net </b>"
   ]
  },
  {
   "cell_type": "code",
   "execution_count": 154,
   "id": "edb09d14",
   "metadata": {},
   "outputs": [],
   "source": [
    "# setting parameters for Grid Search, to find the best combinations\n",
    "param_grid_search = {\n",
    "    'alpha': [1,0.1,0.01],\n",
    "    'max_iter': [1000,1500],\n",
    "    'tol': [0.01,0.1],\n",
    "    'random_state': [1,30,45],\n",
    "    'selection':['cyclic','random']\n",
    "}\n",
    "\n",
    "elasticnet_ft = ElasticNet()\n",
    "\n",
    "grid_search_ft_elastic = GridSearchCV(estimator = elasticnet_ft, param_grid = param_grid_search, cv = 10)"
   ]
  },
  {
   "cell_type": "code",
   "execution_count": 155,
   "id": "7c032a37",
   "metadata": {},
   "outputs": [
    {
     "name": "stdout",
     "output_type": "stream",
     "text": [
      "{'alpha': 0.01, 'max_iter': 1000, 'random_state': 1, 'selection': 'random', 'tol': 0.01}\n"
     ]
    },
    {
     "data": {
      "text/plain": [
       "ElasticNet(alpha=0.01, random_state=1, selection='random', tol=0.01)"
      ]
     },
     "execution_count": 155,
     "metadata": {},
     "output_type": "execute_result"
    }
   ],
   "source": [
    "grid_search_ft_elastic.fit(X_train, y_train)\n",
    "print(grid_search_ft_elastic.best_params_)\n",
    "best_grid_elastic = grid_search_ft_elastic.best_estimator_\n",
    "best_grid_elastic"
   ]
  },
  {
   "cell_type": "code",
   "execution_count": 151,
   "id": "dcbacc74",
   "metadata": {},
   "outputs": [
    {
     "name": "stdout",
     "output_type": "stream",
     "text": [
      "3361.4182259087747\n",
      "0.9449200929554027\n"
     ]
    }
   ],
   "source": [
    "pred_train_ftelastic = grid_search_ft_elastic.predict(X_train)\n",
    "print(np.sqrt(mean_squared_error(y_train,pred_train_ftelastic)))\n",
    "print(r2_score(y_train, pred_train_ftelastic))"
   ]
  },
  {
   "cell_type": "code",
   "execution_count": 152,
   "id": "91c528e3",
   "metadata": {},
   "outputs": [
    {
     "name": "stdout",
     "output_type": "stream",
     "text": [
      "3395.0204177667374\n",
      "0.9438344184125359\n"
     ]
    }
   ],
   "source": [
    "pred_test_ftelastic= grid_search_ft_elastic.predict(X_test)\n",
    "print(np.sqrt(mean_squared_error(y_test,pred_test_ftelastic)))\n",
    "print(r2_score(y_test, pred_test_ftelastic))"
   ]
  },
  {
   "cell_type": "code",
   "execution_count": 91,
   "id": "92983670",
   "metadata": {},
   "outputs": [
    {
     "data": {
      "text/plain": [
       "0.944604280091486"
      ]
     },
     "execution_count": 91,
     "metadata": {},
     "output_type": "execute_result"
    }
   ],
   "source": [
    "#display adjusted R-squared\n",
    "1 - (1-grid_search_ft_elastic.score(X, y))*(len(y)-1)/(len(y)-X.shape[1]-1)"
   ]
  },
  {
   "cell_type": "code",
   "execution_count": 92,
   "id": "da1bfadd",
   "metadata": {},
   "outputs": [
    {
     "data": {
      "text/plain": [
       "0.15259712750112908"
      ]
     },
     "execution_count": 92,
     "metadata": {},
     "output_type": "execute_result"
    }
   ],
   "source": [
    "#display MAPE for Train dataset\n",
    "mean_absolute_percentage_error(y_train, pred_train_ftelastic)"
   ]
  },
  {
   "cell_type": "code",
   "execution_count": 93,
   "id": "73497663",
   "metadata": {},
   "outputs": [
    {
     "data": {
      "text/plain": [
       "0.15270890650413593"
      ]
     },
     "execution_count": 93,
     "metadata": {},
     "output_type": "execute_result"
    }
   ],
   "source": [
    "#display MAPE for Test dataset\n",
    "mean_absolute_percentage_error(y_test, pred_test_ftelastic)"
   ]
  },
  {
   "cell_type": "markdown",
   "id": "bb92a3f8",
   "metadata": {},
   "source": [
    "<b> Fine tune Decision Tree Regressor </b>"
   ]
  },
  {
   "cell_type": "code",
   "execution_count": 144,
   "id": "da64c9b8",
   "metadata": {},
   "outputs": [],
   "source": [
    "# setting parameters for Grid Search, to find the best combinations\n",
    "param_grid_search = {\n",
    "    'criterion': ['squared_error','friedman_mse','poisson'],\n",
    "    'max_depth': [5,10,15,20],\n",
    "    'min_samples_leaf': [40,50,60,70], \n",
    "    'min_samples_split': [100,150,200,350]\n",
    "}\n",
    "\n",
    "dt_ft = DecisionTreeRegressor()\n",
    "\n",
    "grid_search_dtft = GridSearchCV(estimator = dt_ft, param_grid = param_grid_search, cv = 10)"
   ]
  },
  {
   "cell_type": "code",
   "execution_count": 145,
   "id": "1785a850",
   "metadata": {},
   "outputs": [
    {
     "name": "stdout",
     "output_type": "stream",
     "text": [
      "{'criterion': 'friedman_mse', 'max_depth': 10, 'min_samples_leaf': 60, 'min_samples_split': 200}\n"
     ]
    },
    {
     "data": {
      "text/plain": [
       "DecisionTreeRegressor(criterion='friedman_mse', max_depth=10,\n",
       "                      min_samples_leaf=60, min_samples_split=200)"
      ]
     },
     "execution_count": 145,
     "metadata": {},
     "output_type": "execute_result"
    }
   ],
   "source": [
    "grid_search_dtft.fit(X_train, y_train)\n",
    "print(grid_search_dtft.best_params_)\n",
    "best_grid_dtft = grid_search_dtft.best_estimator_\n",
    "best_grid_dtft"
   ]
  },
  {
   "cell_type": "code",
   "execution_count": 146,
   "id": "96b7c70a",
   "metadata": {},
   "outputs": [
    {
     "name": "stdout",
     "output_type": "stream",
     "text": [
      "2995.211746316835\n",
      "0.9562676154746617\n"
     ]
    }
   ],
   "source": [
    "pred_train_ftdt = grid_search_dtft.predict(X_train)\n",
    "print(np.sqrt(mean_squared_error(y_train,pred_train_ftdt)))\n",
    "print(r2_score(y_train, pred_train_ftdt))"
   ]
  },
  {
   "cell_type": "code",
   "execution_count": 147,
   "id": "0e598ff7",
   "metadata": {},
   "outputs": [
    {
     "name": "stdout",
     "output_type": "stream",
     "text": [
      "3120.6987306910387\n",
      "0.9525442143238699\n"
     ]
    }
   ],
   "source": [
    "pred_test_ftdt= grid_search_dtft.predict(X_test)\n",
    "print(np.sqrt(mean_squared_error(y_test,pred_test_ftdt)))\n",
    "print(r2_score(y_test, pred_test_ftdt))"
   ]
  },
  {
   "cell_type": "code",
   "execution_count": 102,
   "id": "aa1e32bf",
   "metadata": {},
   "outputs": [
    {
     "data": {
      "text/plain": [
       "0.9553007431971461"
      ]
     },
     "execution_count": 102,
     "metadata": {},
     "output_type": "execute_result"
    }
   ],
   "source": [
    "#display adjusted R-squared\n",
    "1 - (1-grid_search_dtft.score(X, y))*(len(y)-1)/(len(y)-X.shape[1]-1)"
   ]
  },
  {
   "cell_type": "code",
   "execution_count": 103,
   "id": "692d5a16",
   "metadata": {},
   "outputs": [
    {
     "data": {
      "text/plain": [
       "0.11885225057707784"
      ]
     },
     "execution_count": 103,
     "metadata": {},
     "output_type": "execute_result"
    }
   ],
   "source": [
    "#display MAPE for Train dataset\n",
    "mean_absolute_percentage_error(y_train, pred_train_ftdt)"
   ]
  },
  {
   "cell_type": "code",
   "execution_count": 104,
   "id": "4f84c738",
   "metadata": {},
   "outputs": [
    {
     "data": {
      "text/plain": [
       "0.12259928008553725"
      ]
     },
     "execution_count": 104,
     "metadata": {},
     "output_type": "execute_result"
    }
   ],
   "source": [
    "#display MAPE for Test dataset\n",
    "mean_absolute_percentage_error(y_test, pred_test_ftdt)"
   ]
  },
  {
   "cell_type": "code",
   "execution_count": 148,
   "id": "695226c7",
   "metadata": {},
   "outputs": [
    {
     "data": {
      "text/plain": [
       "array([3.50907037e-04, 1.13890868e-03, 0.00000000e+00, 3.69483550e-05,\n",
       "       2.78456005e-05, 2.34511769e-05, 1.23516911e-04, 1.27951856e-04,\n",
       "       0.00000000e+00, 0.00000000e+00, 2.03446552e-05, 6.24392199e-05,\n",
       "       1.19770278e-04, 1.44902108e-05, 9.95260638e-01, 2.08792453e-03,\n",
       "       2.94109717e-05, 2.42246059e-05, 4.41937942e-04, 1.09290269e-04])"
      ]
     },
     "execution_count": 148,
     "metadata": {},
     "output_type": "execute_result"
    }
   ],
   "source": [
    "# Getting the important features from the Decision Tree fine tuned Model\n",
    "grid_search_dtft.best_estimator_.feature_importances_"
   ]
  },
  {
   "cell_type": "markdown",
   "id": "fc3b1ee9",
   "metadata": {},
   "source": [
    "<b> Fine Tune KNN  </b>"
   ]
  },
  {
   "cell_type": "markdown",
   "id": "176c3602",
   "metadata": {},
   "source": [
    "<b> Have copied the scaled values code from above KNN model. This is for KNN and Neural network as they require scaled values </b> "
   ]
  },
  {
   "cell_type": "code",
   "execution_count": 157,
   "id": "44cb5a9e",
   "metadata": {},
   "outputs": [],
   "source": [
    "from sklearn.neighbors import KNeighborsRegressor"
   ]
  },
  {
   "cell_type": "code",
   "execution_count": 165,
   "id": "85e69f02",
   "metadata": {},
   "outputs": [],
   "source": [
    "# setting parameters for Grid Search, to find the best combinations\n",
    "param_grid_search = {\n",
    "    'n_neighbors': [10,25,50],\n",
    "    'weights': ['unifrom','distance'],\n",
    "    'algorithm': ['auto'], \n",
    "    'leaf_size': [25,30,50],\n",
    "    \n",
    "}\n",
    "\n",
    "knn_ft = KNeighborsRegressor()\n",
    "\n",
    "grid_search_knnft = GridSearchCV(estimator = knn_ft, param_grid = param_grid_search, cv = 10)"
   ]
  },
  {
   "cell_type": "code",
   "execution_count": 166,
   "id": "8a8633cb",
   "metadata": {},
   "outputs": [
    {
     "name": "stdout",
     "output_type": "stream",
     "text": [
      "{'algorithm': 'auto', 'leaf_size': 25, 'n_neighbors': 10, 'weights': 'distance'}\n"
     ]
    },
    {
     "data": {
      "text/plain": [
       "KNeighborsRegressor(leaf_size=25, n_neighbors=10, weights='distance')"
      ]
     },
     "execution_count": 166,
     "metadata": {},
     "output_type": "execute_result"
    }
   ],
   "source": [
    "grid_search_knnft.fit(X_train, y_train)\n",
    "print(grid_search_knnft.best_params_)\n",
    "best_grid_dtknn = grid_search_knnft.best_estimator_\n",
    "best_grid_dtknn"
   ]
  },
  {
   "cell_type": "code",
   "execution_count": 167,
   "id": "0fa44736",
   "metadata": {},
   "outputs": [
    {
     "name": "stdout",
     "output_type": "stream",
     "text": [
      "0.00047723994573107653\n",
      "0.9999999999999989\n"
     ]
    }
   ],
   "source": [
    "pred_train_ftknn = grid_search_knnft.predict(X_train)\n",
    "print(np.sqrt(mean_squared_error(y_train,pred_train_ftknn)))\n",
    "print(r2_score(y_train, pred_train_ftknn))"
   ]
  },
  {
   "cell_type": "code",
   "execution_count": 42,
   "id": "4052c8e2",
   "metadata": {},
   "outputs": [
    {
     "name": "stdout",
     "output_type": "stream",
     "text": [
      "6980.123551878591\n",
      "0.7625830621783506\n"
     ]
    }
   ],
   "source": [
    "pred_test_ftknn= grid_search_knnft.predict(X_test)\n",
    "print(np.sqrt(mean_squared_error(y_test,pred_test_ftknn)))\n",
    "print(r2_score(y_test, pred_test_ftknn))"
   ]
  },
  {
   "cell_type": "code",
   "execution_count": 43,
   "id": "08bdbdf6",
   "metadata": {},
   "outputs": [
    {
     "data": {
      "text/plain": [
       "-0.06982625703597822"
      ]
     },
     "execution_count": 43,
     "metadata": {},
     "output_type": "execute_result"
    }
   ],
   "source": [
    "#display adjusted R-squared\n",
    "1 - (1-grid_search_knnft.score(X, y))*(len(y)-1)/(len(y)-X.shape[1]-1)"
   ]
  },
  {
   "cell_type": "code",
   "execution_count": 44,
   "id": "72409c61",
   "metadata": {},
   "outputs": [
    {
     "data": {
      "text/plain": [
       "6.178095525768879e-09"
      ]
     },
     "execution_count": 44,
     "metadata": {},
     "output_type": "execute_result"
    }
   ],
   "source": [
    "#display MAPE for Train dataset\n",
    "mean_absolute_percentage_error(y_train, pred_train_ftknn)"
   ]
  },
  {
   "cell_type": "code",
   "execution_count": 45,
   "id": "f3c4f09c",
   "metadata": {},
   "outputs": [
    {
     "data": {
      "text/plain": [
       "0.32884008005242277"
      ]
     },
     "execution_count": 45,
     "metadata": {},
     "output_type": "execute_result"
    }
   ],
   "source": [
    "#display MAPE for Test dataset\n",
    "mean_absolute_percentage_error(y_test, pred_test_ftknn)"
   ]
  },
  {
   "cell_type": "markdown",
   "id": "5b877ce3",
   "metadata": {},
   "source": [
    "<b> Fine tune  Neural Network </b>"
   ]
  },
  {
   "cell_type": "code",
   "execution_count": 46,
   "id": "e0850346",
   "metadata": {},
   "outputs": [],
   "source": [
    "# setting parameters for Grid Search, to find the best combinations\n",
    "param_grid_search = {\n",
    "          'hidden_layer_sizes': [50,100,150],\n",
    "          'activation': ['relu','tanh'],\n",
    "          'alpha': [0.001, 0.05],\n",
    "          'learning_rate': ['constant','adaptive'],\n",
    "          'solver': ['adam','sgd'],\n",
    "}\n",
    "\n",
    "nn_ft = MLPRegressor()\n",
    "\n",
    "grid_search_nnft = GridSearchCV(estimator = nn_ft , param_grid = param_grid_search, cv = 10)"
   ]
  },
  {
   "cell_type": "code",
   "execution_count": 48,
   "id": "47501395",
   "metadata": {},
   "outputs": [
    {
     "name": "stdout",
     "output_type": "stream",
     "text": [
      "{'activation': 'relu', 'alpha': 0.001, 'hidden_layer_sizes': 100, 'learning_rate': 'adaptive', 'solver': 'adam'}\n"
     ]
    },
    {
     "data": {
      "text/plain": [
       "MLPRegressor(alpha=0.001, hidden_layer_sizes=100, learning_rate='adaptive')"
      ]
     },
     "execution_count": 48,
     "metadata": {},
     "output_type": "execute_result"
    }
   ],
   "source": [
    "grid_search_nnft.fit(X_train, y_train)\n",
    "print(grid_search_nnft.best_params_)\n",
    "best_grid_ftnn = grid_search_nnft.best_estimator_\n",
    "best_grid_ftnn"
   ]
  },
  {
   "cell_type": "code",
   "execution_count": 49,
   "id": "745688a6",
   "metadata": {},
   "outputs": [
    {
     "name": "stdout",
     "output_type": "stream",
     "text": [
      "4121.430066082736\n",
      "0.9171974011982078\n"
     ]
    }
   ],
   "source": [
    "pred_train_ftnn = grid_search_nnft.predict(X_train)\n",
    "print(np.sqrt(mean_squared_error(y_train,pred_train_ftnn)))\n",
    "print(r2_score(y_train, pred_train_ftnn))"
   ]
  },
  {
   "cell_type": "code",
   "execution_count": 51,
   "id": "2c6bbf85",
   "metadata": {},
   "outputs": [
    {
     "name": "stdout",
     "output_type": "stream",
     "text": [
      "4160.652631158381\n",
      "0.9156454726604597\n"
     ]
    }
   ],
   "source": [
    "pred_test_ftnn= grid_search_nnft.predict(X_test)\n",
    "print(np.sqrt(mean_squared_error(y_test,pred_test_ftnn)))\n",
    "print(r2_score(y_test, pred_test_ftnn))"
   ]
  },
  {
   "cell_type": "code",
   "execution_count": 52,
   "id": "d6983232",
   "metadata": {},
   "outputs": [
    {
     "data": {
      "text/plain": [
       "-2083741.2246898168"
      ]
     },
     "execution_count": 52,
     "metadata": {},
     "output_type": "execute_result"
    }
   ],
   "source": [
    "#display adjusted R-squared\n",
    "1 - (1-grid_search_nnft.score(X, y))*(len(y)-1)/(len(y)-X.shape[1]-1)"
   ]
  },
  {
   "cell_type": "code",
   "execution_count": 53,
   "id": "328a7120",
   "metadata": {},
   "outputs": [
    {
     "data": {
      "text/plain": [
       "0.18548228518592125"
      ]
     },
     "execution_count": 53,
     "metadata": {},
     "output_type": "execute_result"
    }
   ],
   "source": [
    "#display MAPE for Train dataset\n",
    "mean_absolute_percentage_error(y_train, pred_train_ftnn)"
   ]
  },
  {
   "cell_type": "code",
   "execution_count": 54,
   "id": "58fec0e5",
   "metadata": {},
   "outputs": [
    {
     "data": {
      "text/plain": [
       "0.1842300620468434"
      ]
     },
     "execution_count": 54,
     "metadata": {},
     "output_type": "execute_result"
    }
   ],
   "source": [
    "#display MAPE for Test dataset\n",
    "mean_absolute_percentage_error(y_test, pred_test_ftnn)"
   ]
  },
  {
   "cell_type": "markdown",
   "id": "aab39d5b",
   "metadata": {},
   "source": [
    "<b> Fine Tune Random Forest </b>"
   ]
  },
  {
   "cell_type": "markdown",
   "id": "48dda04a",
   "metadata": {},
   "source": [
    "<b> Have updated the value of X_train, X_test from scaled to non-scaled for Random Forest, GradientBoost and XGBoost </b>"
   ]
  },
  {
   "cell_type": "code",
   "execution_count": 68,
   "id": "9c5d8fc7",
   "metadata": {},
   "outputs": [],
   "source": [
    "# setting parameters for Grid Search, to find the best combinations\n",
    "param_grid_search = {\n",
    "  'max_depth': [5,6,8,10],\n",
    "    'max_features': [ 5,8,10,12],\n",
    "    'min_samples_leaf': [8,10,12],\n",
    "    'min_samples_split': [400,450,500], \n",
    "    'n_estimators': [150,250,300],\n",
    "    'random_state':[1,30,42]\n",
    "}\n",
    "\n",
    "rf_ft = RandomForestRegressor()\n",
    "\n",
    "grid_search_rfft = GridSearchCV(estimator = rf_ft , param_grid = param_grid_search, cv = 10)"
   ]
  },
  {
   "cell_type": "code",
   "execution_count": 69,
   "id": "d8ac35d5",
   "metadata": {},
   "outputs": [
    {
     "name": "stdout",
     "output_type": "stream",
     "text": [
      "{'max_depth': 8, 'max_features': 8, 'min_samples_leaf': 10, 'min_samples_split': 500, 'n_estimators': 150, 'random_state': 1}\n"
     ]
    },
    {
     "data": {
      "text/plain": [
       "RandomForestRegressor(max_depth=8, max_features=8, min_samples_leaf=10,\n",
       "                      min_samples_split=500, n_estimators=150, random_state=1)"
      ]
     },
     "execution_count": 69,
     "metadata": {},
     "output_type": "execute_result"
    }
   ],
   "source": [
    "grid_search_rfft.fit(X_train, y_train)\n",
    "print(grid_search_rfft.best_params_)\n",
    "best_grid_ftrf = grid_search_rfft.best_estimator_\n",
    "best_grid_ftrf"
   ]
  },
  {
   "cell_type": "code",
   "execution_count": 70,
   "id": "b4831e15",
   "metadata": {},
   "outputs": [
    {
     "name": "stdout",
     "output_type": "stream",
     "text": [
      "3588.604078189293\n",
      "0.9372231976603409\n"
     ]
    }
   ],
   "source": [
    "pred_train_ftrf = grid_search_rfft.predict(X_train)\n",
    "print(np.sqrt(mean_squared_error(y_train,pred_train_ftrf)))\n",
    "print(r2_score(y_train, pred_train_ftrf))"
   ]
  },
  {
   "cell_type": "code",
   "execution_count": 71,
   "id": "7c4fb833",
   "metadata": {},
   "outputs": [
    {
     "name": "stdout",
     "output_type": "stream",
     "text": [
      "3648.8366635049065\n",
      "0.9351224672735148\n"
     ]
    }
   ],
   "source": [
    "pred_test_ftrf= grid_search_rfft.predict(X_test)\n",
    "print(np.sqrt(mean_squared_error(y_test,pred_test_ftrf)))\n",
    "print(r2_score(y_test, pred_test_ftrf))"
   ]
  },
  {
   "cell_type": "code",
   "execution_count": 73,
   "id": "e61c2730",
   "metadata": {},
   "outputs": [
    {
     "data": {
      "text/plain": [
       "0.936647183682368"
      ]
     },
     "execution_count": 73,
     "metadata": {},
     "output_type": "execute_result"
    }
   ],
   "source": [
    "#display adjusted R-squared\n",
    "1 - (1-grid_search_rfft.score(X, y))*(len(y)-1)/(len(y)-X.shape[1]-1)"
   ]
  },
  {
   "cell_type": "code",
   "execution_count": 74,
   "id": "89599c2c",
   "metadata": {},
   "outputs": [
    {
     "data": {
      "text/plain": [
       "0.15518115353934045"
      ]
     },
     "execution_count": 74,
     "metadata": {},
     "output_type": "execute_result"
    }
   ],
   "source": [
    "#display MAPE for Train dataset\n",
    "mean_absolute_percentage_error(y_train, pred_train_ftrf)"
   ]
  },
  {
   "cell_type": "code",
   "execution_count": 75,
   "id": "cf3b8e6f",
   "metadata": {},
   "outputs": [
    {
     "data": {
      "text/plain": [
       "0.1577720888690866"
      ]
     },
     "execution_count": 75,
     "metadata": {},
     "output_type": "execute_result"
    }
   ],
   "source": [
    "#display MAPE for Test dataset\n",
    "mean_absolute_percentage_error(y_test, pred_test_ftrf)"
   ]
  },
  {
   "cell_type": "markdown",
   "id": "a1bddad0",
   "metadata": {},
   "source": [
    "<b> Fine Tune Gradient Boosting </b>"
   ]
  },
  {
   "cell_type": "code",
   "execution_count": 85,
   "id": "87e54628",
   "metadata": {},
   "outputs": [],
   "source": [
    "# setting parameters for Grid Search, to find the best combinations\n",
    "param_grid_search = {\n",
    "        'max_depth': [8,10,12],\n",
    "        'max_features': [5,8,10,12],\n",
    "        'min_samples_leaf': [8,10,15],\n",
    "        'min_samples_split': [350, 400, 450,500], \n",
    "        'n_estimators': [150,200,250],\n",
    "        'random_state':[1,30,42],\n",
    "          'learning_rate': [0.01,0.001,0.05],\n",
    "          'loss': ['ls','huber']\n",
    "}\n",
    "\n",
    "gbr_ft = GradientBoostingRegressor()\n",
    "\n",
    "grid_search_gbrft = GridSearchCV(estimator = gbr_ft , param_grid = param_grid_search, cv = 10)"
   ]
  },
  {
   "cell_type": "code",
   "execution_count": 86,
   "id": "00e235a1",
   "metadata": {},
   "outputs": [
    {
     "name": "stdout",
     "output_type": "stream",
     "text": [
      "{'learning_rate': 0.001, 'loss': 'ls', 'max_depth': 10, 'max_features': 8, 'min_samples_leaf': 10, 'min_samples_split': 450, 'n_estimators': 200, 'random_state': 42}\n"
     ]
    },
    {
     "data": {
      "text/plain": [
       "GradientBoostingRegressor(learning_rate=0.001, max_depth=10, max_features=8,\n",
       "                          min_samples_leaf=10, min_samples_split=450,\n",
       "                          n_estimators=200, random_state=42)"
      ]
     },
     "execution_count": 86,
     "metadata": {},
     "output_type": "execute_result"
    }
   ],
   "source": [
    "grid_search_gbrft.fit(X_train, y_train)\n",
    "print(grid_search_gbrft.best_params_)\n",
    "best_grid_ftgbr = grid_search_gbrft.best_estimator_\n",
    "best_grid_ftgbr"
   ]
  },
  {
   "cell_type": "code",
   "execution_count": 87,
   "id": "37cfcd9c",
   "metadata": {},
   "outputs": [
    {
     "name": "stdout",
     "output_type": "stream",
     "text": [
      "11991.597344888196\n",
      "0.29902557637960736\n"
     ]
    }
   ],
   "source": [
    "pred_train_ftgbr = grid_search_gbrft.predict(X_train)\n",
    "print(np.sqrt(mean_squared_error(y_train,pred_train_ftgbr)))\n",
    "print(r2_score(y_train, pred_train_ftgbr))"
   ]
  },
  {
   "cell_type": "code",
   "execution_count": 88,
   "id": "28ce285a",
   "metadata": {},
   "outputs": [
    {
     "name": "stdout",
     "output_type": "stream",
     "text": [
      "12007.65930208333\n",
      "0.2974096292320564\n"
     ]
    }
   ],
   "source": [
    "pred_test_ftgbr= grid_search_gbrft.predict(X_test)\n",
    "print(np.sqrt(mean_squared_error(y_test,pred_test_ftgbr)))\n",
    "print(r2_score(y_test, pred_test_ftgbr))"
   ]
  },
  {
   "cell_type": "code",
   "execution_count": 89,
   "id": "f7f92325",
   "metadata": {},
   "outputs": [
    {
     "data": {
      "text/plain": [
       "0.29805990603392174"
      ]
     },
     "execution_count": 89,
     "metadata": {},
     "output_type": "execute_result"
    }
   ],
   "source": [
    "#display adjusted R-squared\n",
    "1 - (1-grid_search_gbrft.score(X, y))*(len(y)-1)/(len(y)-X.shape[1]-1)"
   ]
  },
  {
   "cell_type": "code",
   "execution_count": 90,
   "id": "66e6d26c",
   "metadata": {},
   "outputs": [
    {
     "data": {
      "text/plain": [
       "0.6699760153443384"
      ]
     },
     "execution_count": 90,
     "metadata": {},
     "output_type": "execute_result"
    }
   ],
   "source": [
    "#display MAPE for Train dataset\n",
    "mean_absolute_percentage_error(y_train, pred_train_ftgbr)"
   ]
  },
  {
   "cell_type": "code",
   "execution_count": 91,
   "id": "b9b8f93a",
   "metadata": {},
   "outputs": [
    {
     "data": {
      "text/plain": [
       "0.6703263522541194"
      ]
     },
     "execution_count": 91,
     "metadata": {},
     "output_type": "execute_result"
    }
   ],
   "source": [
    "#display MAPE for Test dataset\n",
    "mean_absolute_percentage_error(y_test, pred_test_ftgbr)"
   ]
  },
  {
   "cell_type": "markdown",
   "id": "5abde2ff",
   "metadata": {},
   "source": [
    "<b> Fine Tune XGBoost </b>"
   ]
  },
  {
   "cell_type": "code",
   "execution_count": 128,
   "id": "a5f184ce",
   "metadata": {},
   "outputs": [],
   "source": [
    "# setting parameters for Grid Search, to find the best combinations\n",
    "param_grid_search = {\n",
    "        'max_depth': [6,8,10],\n",
    "        'colsample_bytree': [0.3,0.5,1],\n",
    "        'gamma': [350,400,450,500], \n",
    "        'tree_method': ['auto','approx', 'hist'],\n",
    "        'random_state':[1,42,30],\n",
    "        'learning_rate': [0.001,0.01,0.3]\n",
    "          \n",
    "}\n",
    "\n",
    "xgb_ft = xgb.XGBRegressor()\n",
    "\n",
    "grid_search_xgbft = GridSearchCV(estimator = xgb_ft , param_grid = param_grid_search, cv = 10)"
   ]
  },
  {
   "cell_type": "code",
   "execution_count": 129,
   "id": "bedbc118",
   "metadata": {},
   "outputs": [
    {
     "name": "stdout",
     "output_type": "stream",
     "text": [
      "{'colsample_bytree': 0.3, 'gamma': 400, 'learning_rate': 0.3, 'max_depth': 6, 'random_state': 42, 'tree_method': 'auto'}\n"
     ]
    },
    {
     "data": {
      "text/plain": [
       "XGBRegressor(base_score=0.5, booster='gbtree', colsample_bylevel=1,\n",
       "             colsample_bynode=1, colsample_bytree=0.3, enable_categorical=False,\n",
       "             gamma=400, gpu_id=-1, importance_type=None,\n",
       "             interaction_constraints='', learning_rate=0.3, max_delta_step=0,\n",
       "             max_depth=6, min_child_weight=1, missing=nan,\n",
       "             monotone_constraints='()', n_estimators=100, n_jobs=8,\n",
       "             num_parallel_tree=1, predictor='auto', random_state=42,\n",
       "             reg_alpha=0, reg_lambda=1, scale_pos_weight=1, subsample=1,\n",
       "             tree_method='auto', validate_parameters=1, verbosity=None)"
      ]
     },
     "execution_count": 129,
     "metadata": {},
     "output_type": "execute_result"
    }
   ],
   "source": [
    "grid_search_xgbft.fit(X_train, y_train)\n",
    "print(grid_search_xgbft.best_params_)\n",
    "best_grid_ftxgb = grid_search_xgbft.best_estimator_\n",
    "best_grid_ftxgb"
   ]
  },
  {
   "cell_type": "code",
   "execution_count": 130,
   "id": "ff787d6e",
   "metadata": {},
   "outputs": [
    {
     "name": "stdout",
     "output_type": "stream",
     "text": [
      "2513.2017390800197\n",
      "0.9692104883439813\n"
     ]
    }
   ],
   "source": [
    "pred_train_ftxgb = grid_search_xgbft.predict(X_train)\n",
    "print(np.sqrt(mean_squared_error(y_train,pred_train_ftxgb)))\n",
    "print(r2_score(y_train, pred_train_ftxgb))"
   ]
  },
  {
   "cell_type": "code",
   "execution_count": 131,
   "id": "b6ace83f",
   "metadata": {},
   "outputs": [
    {
     "name": "stdout",
     "output_type": "stream",
     "text": [
      "3229.562848293763\n",
      "0.949175518089095\n"
     ]
    }
   ],
   "source": [
    "pred_test_ftxgb= grid_search_xgbft.predict(X_test)\n",
    "print(np.sqrt(mean_squared_error(y_test,pred_test_ftxgb)))\n",
    "print(r2_score(y_test, pred_test_ftxgb))"
   ]
  },
  {
   "cell_type": "code",
   "execution_count": 132,
   "id": "08b00470",
   "metadata": {},
   "outputs": [
    {
     "data": {
      "text/plain": [
       "0.9641716754549855"
      ]
     },
     "execution_count": 132,
     "metadata": {},
     "output_type": "execute_result"
    }
   ],
   "source": [
    "#display adjusted R-squared\n",
    "1 - (1-grid_search_xgbft.score(X, y))*(len(y)-1)/(len(y)-X.shape[1]-1)"
   ]
  },
  {
   "cell_type": "code",
   "execution_count": 133,
   "id": "2a705a78",
   "metadata": {},
   "outputs": [
    {
     "data": {
      "text/plain": [
       "0.0980057501282517"
      ]
     },
     "execution_count": 133,
     "metadata": {},
     "output_type": "execute_result"
    }
   ],
   "source": [
    "#display MAPE for Train dataset\n",
    "mean_absolute_percentage_error(y_train, pred_train_ftxgb)"
   ]
  },
  {
   "cell_type": "code",
   "execution_count": 134,
   "id": "e5202eca",
   "metadata": {},
   "outputs": [
    {
     "data": {
      "text/plain": [
       "0.13100370578649226"
      ]
     },
     "execution_count": 134,
     "metadata": {},
     "output_type": "execute_result"
    }
   ],
   "source": [
    "#display MAPE for Test dataset\n",
    "mean_absolute_percentage_error(y_test, pred_test_ftxgb)"
   ]
  },
  {
   "cell_type": "code",
   "execution_count": 141,
   "id": "cf0f0449",
   "metadata": {},
   "outputs": [
    {
     "data": {
      "text/plain": [
       "array([0.0037047 , 0.05291879, 0.0126059 , 0.00198352, 0.0018668 ,\n",
       "       0.00132097, 0.0023176 , 0.00304388, 0.00285855, 0.0012398 ,\n",
       "       0.00141989, 0.00240671, 0.00490852, 0.00365709, 0.6787945 ,\n",
       "       0.01669851, 0.00286816, 0.00310947, 0.19950473, 0.00277184],\n",
       "      dtype=float32)"
      ]
     },
     "execution_count": 141,
     "metadata": {},
     "output_type": "execute_result"
    }
   ],
   "source": [
    "# Getting the important features from the XGBoost fine tuned Model\n",
    "grid_search_xgbft.best_estimator_.feature_importances_"
   ]
  },
  {
   "cell_type": "code",
   "execution_count": null,
   "id": "b554015c",
   "metadata": {},
   "outputs": [],
   "source": []
  }
 ],
 "metadata": {
  "kernelspec": {
   "display_name": "Python 3",
   "language": "python",
   "name": "python3"
  },
  "language_info": {
   "codemirror_mode": {
    "name": "ipython",
    "version": 3
   },
   "file_extension": ".py",
   "mimetype": "text/x-python",
   "name": "python",
   "nbconvert_exporter": "python",
   "pygments_lexer": "ipython3",
   "version": "3.8.8"
  }
 },
 "nbformat": 4,
 "nbformat_minor": 5
}
